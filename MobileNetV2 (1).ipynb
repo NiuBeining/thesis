{
  "nbformat": 4,
  "nbformat_minor": 0,
  "metadata": {
    "colab": {
      "provenance": [],
      "gpuType": "T4"
    },
    "kernelspec": {
      "name": "python3",
      "display_name": "Python 3"
    },
    "language_info": {
      "name": "python"
    },
    "accelerator": "GPU"
  },
  "cells": [
    {
      "cell_type": "code",
      "execution_count": null,
      "metadata": {
        "colab": {
          "base_uri": "https://localhost:8080/"
        },
        "id": "hdMqzPNPAon5",
        "outputId": "4d18e30f-01a3-4fb5-b42a-1c39f23df190"
      },
      "outputs": [
        {
          "output_type": "stream",
          "name": "stdout",
          "text": [
            "Mounted at /content/drive\n"
          ]
        }
      ],
      "source": [
        "from google.colab import drive\n",
        "drive.mount('/content/drive')\n"
      ]
    },
    {
      "cell_type": "code",
      "source": [
        "# ✅ Step 1: 挂载 Google Drive\n",
        "from google.colab import drive\n",
        "drive.mount('/content/drive')\n",
        "\n",
        "# ✅ Step 2: 导入库\n",
        "import torch\n",
        "import torch.nn as nn\n",
        "import torch.optim as optim\n",
        "from torchvision import datasets, transforms, models\n",
        "from torch.utils.data import DataLoader\n",
        "from sklearn.metrics import accuracy_score\n",
        "from tqdm import tqdm\n",
        "import os\n",
        "import shutil\n",
        "\n",
        "# ✅ Step 3: 设置参数\n",
        "BATCH_SIZE = 64\n",
        "EPOCHS = 50\n",
        "PATIENCE = 5\n",
        "LR = 1e-4\n",
        "NUM_CLASSES = 7\n",
        "device = torch.device(\"cuda\" if torch.cuda.is_available() else \"cpu\")\n",
        "\n",
        "# ✅ Step 4: 数据路径（你自己的路径）\n",
        "train_path = '/content/drive/MyDrive/dataset/train'\n",
        "test_path = '/content/drive/MyDrive/dataset/test'\n",
        "\n",
        "# ✅ Step 5: 数据预处理\n",
        "transform = transforms.Compose([\n",
        "    transforms.Grayscale(num_output_channels=3),\n",
        "    transforms.Resize((224, 224)),\n",
        "    transforms.ToTensor(),\n",
        "    transforms.Normalize([0.5]*3, [0.5]*3)\n",
        "])\n",
        "\n",
        "train_dataset = datasets.ImageFolder(train_path, transform=transform)\n",
        "test_dataset = datasets.ImageFolder(test_path, transform=transform)\n",
        "train_loader = DataLoader(train_dataset, batch_size=BATCH_SIZE, shuffle=True)\n",
        "test_loader = DataLoader(test_dataset, batch_size=BATCH_SIZE, shuffle=False)\n",
        "\n",
        "# ✅ Step 6: 加载 MobileNetV2 并修改最后一层\n",
        "model = models.mobilenet_v2(weights=models.MobileNet_V2_Weights.DEFAULT)\n",
        "model.classifier[1] = nn.Linear(model.last_channel, NUM_CLASSES)\n",
        "model = model.to(device)\n",
        "\n",
        "criterion = nn.CrossEntropyLoss()\n",
        "optimizer = optim.Adam(model.parameters(), lr=LR)\n",
        "\n",
        "# ✅ Step 7: EarlyStopping 设置\n",
        "best_loss = float('inf')\n",
        "patience_counter = 0\n",
        "\n",
        "# ✅ Step 8: 训练主循环\n",
        "for epoch in range(EPOCHS):\n",
        "    model.train()\n",
        "    epoch_loss = 0\n",
        "    all_preds, all_labels = [], []\n",
        "\n",
        "    loop = tqdm(train_loader, desc=f\"Epoch {epoch+1}/{EPOCHS}\")\n",
        "    for images, labels in loop:\n",
        "        images, labels = images.to(device), labels.to(device)\n",
        "        outputs = model(images)\n",
        "        loss = criterion(outputs, labels)\n",
        "\n",
        "        optimizer.zero_grad()\n",
        "        loss.backward()\n",
        "        optimizer.step()\n",
        "\n",
        "        epoch_loss += loss.item()\n",
        "        preds = outputs.argmax(1)\n",
        "        all_preds.extend(preds.cpu().numpy())\n",
        "        all_labels.extend(labels.cpu().numpy())\n",
        "        acc = accuracy_score(all_labels, all_preds)\n",
        "        loop.set_postfix(loss=loss.item(), acc=acc)\n",
        "\n",
        "    train_acc = accuracy_score(all_labels, all_preds)\n",
        "    print(f\"✅ Epoch {epoch+1}: Loss={epoch_loss:.4f}, Train Acc={train_acc:.4f}\")\n",
        "\n",
        "    # 保存最优模型\n",
        "    if epoch_loss < best_loss:\n",
        "        best_loss = epoch_loss\n",
        "        patience_counter = 0\n",
        "        torch.save(model.state_dict(), 'mobilenetv2_best.pth')\n",
        "        shutil.copy('mobilenetv2_best.pth', '/content/drive/MyDrive/mobilenetv2_best.pth')\n",
        "        print(\"✅ Best model saved to Drive.\")\n",
        "    else:\n",
        "        patience_counter += 1\n",
        "        print(f\"⚠️ EarlyStopping counter: {patience_counter}/{PATIENCE}\")\n",
        "        if patience_counter >= PATIENCE:\n",
        "            print(\"⛔ Early stopping triggered.\")\n",
        "            break\n"
      ],
      "metadata": {
        "colab": {
          "base_uri": "https://localhost:8080/"
        },
        "id": "lMQalOLlxGEg",
        "outputId": "b94ca15a-62e2-452b-9d98-c822da9ad7bc"
      },
      "execution_count": null,
      "outputs": [
        {
          "metadata": {
            "tags": null
          },
          "name": "stdout",
          "output_type": "stream",
          "text": [
            "Mounted at /content/drive\n"
          ]
        },
        {
          "metadata": {
            "tags": null
          },
          "name": "stderr",
          "output_type": "stream",
          "text": [
            "Downloading: \"https://download.pytorch.org/models/mobilenet_v2-7ebf99e0.pth\" to /root/.cache/torch/hub/checkpoints/mobilenet_v2-7ebf99e0.pth\n",
            "100%|██████████| 13.6M/13.6M [00:00<00:00, 56.5MB/s]\n",
            "Epoch 1/50: 100%|██████████| 452/452 [2:15:29<00:00, 17.99s/it, acc=0.472, loss=1.34]\n"
          ]
        },
        {
          "metadata": {
            "tags": null
          },
          "name": "stdout",
          "output_type": "stream",
          "text": [
            "✅ Epoch 1: Loss=618.0856, Train Acc=0.4721\n",
            "✅ Best model saved to Drive.\n"
          ]
        },
        {
          "metadata": {
            "tags": null
          },
          "name": "stderr",
          "output_type": "stream",
          "text": [
            "Epoch 2/50: 100%|██████████| 452/452 [03:48<00:00,  1.98it/s, acc=0.624, loss=0.93]\n"
          ]
        },
        {
          "metadata": {
            "tags": null
          },
          "name": "stdout",
          "output_type": "stream",
          "text": [
            "✅ Epoch 2: Loss=455.4732, Train Acc=0.6243\n",
            "✅ Best model saved to Drive.\n"
          ]
        },
        {
          "metadata": {
            "tags": null
          },
          "name": "stderr",
          "output_type": "stream",
          "text": [
            "Epoch 3/50: 100%|██████████| 452/452 [03:50<00:00,  1.96it/s, acc=0.705, loss=0.868]\n"
          ]
        },
        {
          "metadata": {
            "tags": null
          },
          "name": "stdout",
          "output_type": "stream",
          "text": [
            "✅ Epoch 3: Loss=362.2982, Train Acc=0.7050\n",
            "✅ Best model saved to Drive.\n"
          ]
        },
        {
          "metadata": {
            "tags": null
          },
          "name": "stderr",
          "output_type": "stream",
          "text": [
            "Epoch 4/50: 100%|██████████| 452/452 [03:51<00:00,  1.95it/s, acc=0.788, loss=0.497]\n"
          ]
        },
        {
          "metadata": {
            "tags": null
          },
          "name": "stdout",
          "output_type": "stream",
          "text": [
            "✅ Epoch 4: Loss=266.8841, Train Acc=0.7884\n",
            "✅ Best model saved to Drive.\n"
          ]
        },
        {
          "metadata": {
            "tags": null
          },
          "name": "stderr",
          "output_type": "stream",
          "text": [
            "Epoch 5/50: 100%|██████████| 452/452 [03:52<00:00,  1.95it/s, acc=0.871, loss=0.179]\n"
          ]
        },
        {
          "metadata": {
            "tags": null
          },
          "name": "stdout",
          "output_type": "stream",
          "text": [
            "✅ Epoch 5: Loss=172.7407, Train Acc=0.8708\n",
            "✅ Best model saved to Drive.\n"
          ]
        },
        {
          "output_type": "stream",
          "name": "stderr",
          "text": [
            "Epoch 6/50: 100%|██████████| 452/452 [03:53<00:00,  1.93it/s, acc=0.934, loss=0.181]\n"
          ]
        },
        {
          "output_type": "stream",
          "name": "stdout",
          "text": [
            "✅ Epoch 6: Loss=97.7616, Train Acc=0.9337\n",
            "✅ Best model saved to Drive.\n"
          ]
        },
        {
          "output_type": "stream",
          "name": "stderr",
          "text": [
            "Epoch 7/50: 100%|██████████| 452/452 [03:53<00:00,  1.93it/s, acc=0.965, loss=0.126]\n"
          ]
        },
        {
          "output_type": "stream",
          "name": "stdout",
          "text": [
            "✅ Epoch 7: Loss=54.6864, Train Acc=0.9653\n",
            "✅ Best model saved to Drive.\n"
          ]
        },
        {
          "output_type": "stream",
          "name": "stderr",
          "text": [
            "Epoch 8/50: 100%|██████████| 452/452 [03:53<00:00,  1.93it/s, acc=0.976, loss=0.195]\n"
          ]
        },
        {
          "output_type": "stream",
          "name": "stdout",
          "text": [
            "✅ Epoch 8: Loss=39.2580, Train Acc=0.9762\n",
            "✅ Best model saved to Drive.\n"
          ]
        },
        {
          "output_type": "stream",
          "name": "stderr",
          "text": [
            "Epoch 9/50: 100%|██████████| 452/452 [03:54<00:00,  1.93it/s, acc=0.981, loss=0.0609]\n"
          ]
        },
        {
          "output_type": "stream",
          "name": "stdout",
          "text": [
            "✅ Epoch 9: Loss=29.8969, Train Acc=0.9813\n",
            "✅ Best model saved to Drive.\n"
          ]
        },
        {
          "output_type": "stream",
          "name": "stderr",
          "text": [
            "Epoch 10/50: 100%|██████████| 452/452 [03:54<00:00,  1.92it/s, acc=0.98, loss=0.0644]\n"
          ]
        },
        {
          "output_type": "stream",
          "name": "stdout",
          "text": [
            "✅ Epoch 10: Loss=30.4385, Train Acc=0.9798\n",
            "⚠️ EarlyStopping counter: 1/5\n"
          ]
        },
        {
          "output_type": "stream",
          "name": "stderr",
          "text": [
            "Epoch 11/50: 100%|██████████| 452/452 [03:54<00:00,  1.93it/s, acc=0.983, loss=0.0845]\n"
          ]
        },
        {
          "output_type": "stream",
          "name": "stdout",
          "text": [
            "✅ Epoch 11: Loss=27.1592, Train Acc=0.9827\n",
            "✅ Best model saved to Drive.\n"
          ]
        },
        {
          "output_type": "stream",
          "name": "stderr",
          "text": [
            "Epoch 12/50: 100%|██████████| 452/452 [03:56<00:00,  1.91it/s, acc=0.983, loss=0.0262]\n"
          ]
        },
        {
          "output_type": "stream",
          "name": "stdout",
          "text": [
            "✅ Epoch 12: Loss=24.0863, Train Acc=0.9833\n",
            "✅ Best model saved to Drive.\n"
          ]
        },
        {
          "output_type": "stream",
          "name": "stderr",
          "text": [
            "Epoch 13/50: 100%|██████████| 452/452 [03:54<00:00,  1.92it/s, acc=0.982, loss=0.0314]\n"
          ]
        },
        {
          "output_type": "stream",
          "name": "stdout",
          "text": [
            "✅ Epoch 13: Loss=25.3351, Train Acc=0.9823\n",
            "⚠️ EarlyStopping counter: 1/5\n"
          ]
        },
        {
          "output_type": "stream",
          "name": "stderr",
          "text": [
            "Epoch 14/50: 100%|██████████| 452/452 [03:57<00:00,  1.91it/s, acc=0.986, loss=0.0281]\n"
          ]
        },
        {
          "output_type": "stream",
          "name": "stdout",
          "text": [
            "✅ Epoch 14: Loss=20.1543, Train Acc=0.9863\n",
            "✅ Best model saved to Drive.\n"
          ]
        },
        {
          "output_type": "stream",
          "name": "stderr",
          "text": [
            "Epoch 15/50: 100%|██████████| 452/452 [03:56<00:00,  1.91it/s, acc=0.984, loss=0.00839]\n"
          ]
        },
        {
          "output_type": "stream",
          "name": "stdout",
          "text": [
            "✅ Epoch 15: Loss=22.0128, Train Acc=0.9838\n",
            "⚠️ EarlyStopping counter: 1/5\n"
          ]
        },
        {
          "output_type": "stream",
          "name": "stderr",
          "text": [
            "Epoch 16/50: 100%|██████████| 452/452 [03:56<00:00,  1.91it/s, acc=0.986, loss=0.0807]\n"
          ]
        },
        {
          "output_type": "stream",
          "name": "stdout",
          "text": [
            "✅ Epoch 16: Loss=19.2542, Train Acc=0.9863\n",
            "✅ Best model saved to Drive.\n"
          ]
        },
        {
          "output_type": "stream",
          "name": "stderr",
          "text": [
            "Epoch 17/50: 100%|██████████| 452/452 [03:56<00:00,  1.91it/s, acc=0.984, loss=0.0551]\n"
          ]
        },
        {
          "output_type": "stream",
          "name": "stdout",
          "text": [
            "✅ Epoch 17: Loss=21.4252, Train Acc=0.9838\n",
            "⚠️ EarlyStopping counter: 1/5\n"
          ]
        },
        {
          "output_type": "stream",
          "name": "stderr",
          "text": [
            "Epoch 18/50: 100%|██████████| 452/452 [03:56<00:00,  1.91it/s, acc=0.983, loss=0.0086]\n"
          ]
        },
        {
          "output_type": "stream",
          "name": "stdout",
          "text": [
            "✅ Epoch 18: Loss=23.3531, Train Acc=0.9827\n",
            "⚠️ EarlyStopping counter: 2/5\n"
          ]
        },
        {
          "output_type": "stream",
          "name": "stderr",
          "text": [
            "Epoch 19/50: 100%|██████████| 452/452 [03:57<00:00,  1.91it/s, acc=0.989, loss=0.00985]\n"
          ]
        },
        {
          "output_type": "stream",
          "name": "stdout",
          "text": [
            "✅ Epoch 19: Loss=15.8118, Train Acc=0.9887\n",
            "✅ Best model saved to Drive.\n"
          ]
        },
        {
          "output_type": "stream",
          "name": "stderr",
          "text": [
            "Epoch 20/50: 100%|██████████| 452/452 [03:56<00:00,  1.91it/s, acc=0.989, loss=0.052]\n"
          ]
        },
        {
          "output_type": "stream",
          "name": "stdout",
          "text": [
            "✅ Epoch 20: Loss=15.2372, Train Acc=0.9893\n",
            "✅ Best model saved to Drive.\n"
          ]
        },
        {
          "output_type": "stream",
          "name": "stderr",
          "text": [
            "Epoch 21/50: 100%|██████████| 452/452 [03:54<00:00,  1.93it/s, acc=0.986, loss=0.0425]\n"
          ]
        },
        {
          "output_type": "stream",
          "name": "stdout",
          "text": [
            "✅ Epoch 21: Loss=18.2377, Train Acc=0.9862\n",
            "⚠️ EarlyStopping counter: 1/5\n"
          ]
        },
        {
          "output_type": "stream",
          "name": "stderr",
          "text": [
            "Epoch 22/50: 100%|██████████| 452/452 [03:54<00:00,  1.93it/s, acc=0.986, loss=0.0935]\n"
          ]
        },
        {
          "output_type": "stream",
          "name": "stdout",
          "text": [
            "✅ Epoch 22: Loss=18.4328, Train Acc=0.9857\n",
            "⚠️ EarlyStopping counter: 2/5\n"
          ]
        },
        {
          "output_type": "stream",
          "name": "stderr",
          "text": [
            "Epoch 23/50: 100%|██████████| 452/452 [03:53<00:00,  1.94it/s, acc=0.989, loss=0.127]\n"
          ]
        },
        {
          "output_type": "stream",
          "name": "stdout",
          "text": [
            "✅ Epoch 23: Loss=15.5642, Train Acc=0.9889\n",
            "⚠️ EarlyStopping counter: 3/5\n"
          ]
        },
        {
          "output_type": "stream",
          "name": "stderr",
          "text": [
            "Epoch 24/50: 100%|██████████| 452/452 [03:54<00:00,  1.92it/s, acc=0.989, loss=0.0044]\n"
          ]
        },
        {
          "output_type": "stream",
          "name": "stdout",
          "text": [
            "✅ Epoch 24: Loss=14.2433, Train Acc=0.9895\n",
            "✅ Best model saved to Drive.\n"
          ]
        },
        {
          "output_type": "stream",
          "name": "stderr",
          "text": [
            "Epoch 25/50: 100%|██████████| 452/452 [03:54<00:00,  1.93it/s, acc=0.987, loss=0.00254]\n"
          ]
        },
        {
          "output_type": "stream",
          "name": "stdout",
          "text": [
            "✅ Epoch 25: Loss=17.0044, Train Acc=0.9873\n",
            "⚠️ EarlyStopping counter: 1/5\n"
          ]
        },
        {
          "output_type": "stream",
          "name": "stderr",
          "text": [
            "Epoch 26/50: 100%|██████████| 452/452 [03:53<00:00,  1.94it/s, acc=0.989, loss=0.00941]\n"
          ]
        },
        {
          "output_type": "stream",
          "name": "stdout",
          "text": [
            "✅ Epoch 26: Loss=14.3773, Train Acc=0.9891\n",
            "⚠️ EarlyStopping counter: 2/5\n"
          ]
        },
        {
          "output_type": "stream",
          "name": "stderr",
          "text": [
            "Epoch 27/50: 100%|██████████| 452/452 [03:53<00:00,  1.94it/s, acc=0.987, loss=0.0353]\n"
          ]
        },
        {
          "output_type": "stream",
          "name": "stdout",
          "text": [
            "✅ Epoch 27: Loss=16.3341, Train Acc=0.9872\n",
            "⚠️ EarlyStopping counter: 3/5\n"
          ]
        },
        {
          "output_type": "stream",
          "name": "stderr",
          "text": [
            "Epoch 28/50: 100%|██████████| 452/452 [03:54<00:00,  1.92it/s, acc=0.988, loss=0.00683]\n"
          ]
        },
        {
          "output_type": "stream",
          "name": "stdout",
          "text": [
            "✅ Epoch 28: Loss=15.4228, Train Acc=0.9881\n",
            "⚠️ EarlyStopping counter: 4/5\n"
          ]
        },
        {
          "output_type": "stream",
          "name": "stderr",
          "text": [
            "Epoch 29/50: 100%|██████████| 452/452 [03:53<00:00,  1.93it/s, acc=0.991, loss=0.00394]\n"
          ]
        },
        {
          "output_type": "stream",
          "name": "stdout",
          "text": [
            "✅ Epoch 29: Loss=11.6024, Train Acc=0.9905\n",
            "✅ Best model saved to Drive.\n"
          ]
        },
        {
          "output_type": "stream",
          "name": "stderr",
          "text": [
            "Epoch 30/50: 100%|██████████| 452/452 [03:53<00:00,  1.93it/s, acc=0.99, loss=0.0381]\n"
          ]
        },
        {
          "output_type": "stream",
          "name": "stdout",
          "text": [
            "✅ Epoch 30: Loss=12.8584, Train Acc=0.9899\n",
            "⚠️ EarlyStopping counter: 1/5\n"
          ]
        },
        {
          "output_type": "stream",
          "name": "stderr",
          "text": [
            "Epoch 31/50: 100%|██████████| 452/452 [03:53<00:00,  1.93it/s, acc=0.99, loss=0.069]\n"
          ]
        },
        {
          "output_type": "stream",
          "name": "stdout",
          "text": [
            "✅ Epoch 31: Loss=12.6478, Train Acc=0.9903\n",
            "⚠️ EarlyStopping counter: 2/5\n"
          ]
        },
        {
          "output_type": "stream",
          "name": "stderr",
          "text": [
            "Epoch 32/50: 100%|██████████| 452/452 [03:54<00:00,  1.93it/s, acc=0.988, loss=0.0195]\n"
          ]
        },
        {
          "output_type": "stream",
          "name": "stdout",
          "text": [
            "✅ Epoch 32: Loss=15.3619, Train Acc=0.9876\n",
            "⚠️ EarlyStopping counter: 3/5\n"
          ]
        },
        {
          "output_type": "stream",
          "name": "stderr",
          "text": [
            "Epoch 33/50: 100%|██████████| 452/452 [03:54<00:00,  1.93it/s, acc=0.989, loss=0.0152]\n"
          ]
        },
        {
          "output_type": "stream",
          "name": "stdout",
          "text": [
            "✅ Epoch 33: Loss=13.4760, Train Acc=0.9892\n",
            "⚠️ EarlyStopping counter: 4/5\n"
          ]
        },
        {
          "output_type": "stream",
          "name": "stderr",
          "text": [
            "Epoch 34/50: 100%|██████████| 452/452 [03:54<00:00,  1.93it/s, acc=0.989, loss=0.0239]"
          ]
        },
        {
          "output_type": "stream",
          "name": "stdout",
          "text": [
            "✅ Epoch 34: Loss=14.3504, Train Acc=0.9887\n",
            "⚠️ EarlyStopping counter: 5/5\n",
            "⛔ Early stopping triggered.\n"
          ]
        },
        {
          "output_type": "stream",
          "name": "stderr",
          "text": [
            "\n"
          ]
        }
      ]
    },
    {
      "cell_type": "code",
      "source": [
        "# ✅ Step 1: 挂载 Google Drive\n",
        "from google.colab import drive\n",
        "drive.mount('/content/drive')\n",
        "\n",
        "# ✅ Step 2: 导入库\n",
        "import torch\n",
        "import torch.nn as nn\n",
        "from torchvision import datasets, transforms, models\n",
        "from torch.utils.data import DataLoader\n",
        "from sklearn.metrics import accuracy_score, precision_score, recall_score, f1_score, confusion_matrix, classification_report\n",
        "import matplotlib.pyplot as plt\n",
        "import seaborn as sns\n",
        "import numpy as np\n",
        "\n",
        "# ✅ Step 3: 设置参数\n",
        "BATCH_SIZE = 64\n",
        "NUM_CLASSES = 7\n",
        "device = torch.device(\"cuda\" if torch.cuda.is_available() else \"cpu\")\n",
        "\n",
        "# ✅ Step 4: 加载测试集\n",
        "test_path = '/content/drive/MyDrive/dataset/test'\n",
        "transform = transforms.Compose([\n",
        "    transforms.Grayscale(num_output_channels=3),\n",
        "    transforms.Resize((224, 224)),\n",
        "    transforms.ToTensor(),\n",
        "    transforms.Normalize([0.5]*3, [0.5]*3)\n",
        "])\n",
        "test_dataset = datasets.ImageFolder(test_path, transform=transform)\n",
        "test_loader = DataLoader(test_dataset, batch_size=BATCH_SIZE, shuffle=False)\n",
        "\n",
        "# ✅ Step 5: 加载保存的最佳模型\n",
        "model = models.mobilenet_v2(weights=None)\n",
        "model.classifier[1] = nn.Linear(model.last_channel, NUM_CLASSES)\n",
        "model.load_state_dict(torch.load('/content/drive/MyDrive/mobilenetv2_best.pth', map_location=device))\n",
        "model = model.to(device)\n",
        "model.eval()\n",
        "\n",
        "# ✅ Step 6: 执行测试\n",
        "true_labels, pred_labels = [], []\n",
        "with torch.no_grad():\n",
        "    for images, labels in test_loader:\n",
        "        images, labels = images.to(device), labels.to(device)\n",
        "        outputs = model(images)\n",
        "        preds = outputs.argmax(1)\n",
        "        true_labels.extend(labels.cpu().numpy())\n",
        "        pred_labels.extend(preds.cpu().numpy())\n",
        "\n",
        "# ✅ Step 7: 计算四个指标\n",
        "acc = accuracy_score(true_labels, pred_labels)\n",
        "precision = precision_score(true_labels, pred_labels, average='weighted')\n",
        "recall = recall_score(true_labels, pred_labels, average='weighted')\n",
        "f1 = f1_score(true_labels, pred_labels, average='weighted')\n",
        "cm = confusion_matrix(true_labels, pred_labels)\n",
        "\n",
        "# ✅ Step 8: 输出结果\n",
        "print(f\"\\n✅ Final Evaluation on Test Set:\")\n",
        "print(f\"Accuracy:  {acc:.4f}\")\n",
        "print(f\"Precision: {precision:.4f}\")\n",
        "print(f\"Recall:    {recall:.4f}\")\n",
        "print(f\"F1 Score:  {f1:.4f}\\n\")\n",
        "print(\"📊 Classification Report:\")\n",
        "print(classification_report(true_labels, pred_labels, target_names=test_dataset.classes))\n",
        "\n",
        "# ✅ Step 9: 混淆矩阵可视化\n",
        "plt.figure(figsize=(8, 6))\n",
        "sns.heatmap(cm, annot=True, fmt='d', cmap='Blues',\n",
        "            xticklabels=test_dataset.classes,\n",
        "            yticklabels=test_dataset.classes)\n",
        "plt.title('Confusion Matrix - MobileNetV2 on FER2013')\n",
        "plt.xlabel('Predicted')\n",
        "plt.ylabel('True')\n",
        "plt.tight_layout()\n",
        "plt.savefig('/content/drive/MyDrive/mobilenetv2_confusion_matrix.png')\n",
        "plt.show()\n"
      ],
      "metadata": {
        "colab": {
          "base_uri": "https://localhost:8080/",
          "height": 1000
        },
        "id": "7bBVu2KkgCPG",
        "outputId": "08773f1f-cac4-4bf5-a83f-bad9f818508d"
      },
      "execution_count": null,
      "outputs": [
        {
          "output_type": "stream",
          "name": "stdout",
          "text": [
            "Mounted at /content/drive\n",
            "\n",
            "✅ Final Evaluation on Test Set:\n",
            "Accuracy:  0.6284\n",
            "Precision: 0.6297\n",
            "Recall:    0.6284\n",
            "F1 Score:  0.6271\n",
            "\n",
            "📊 Classification Report:\n",
            "              precision    recall  f1-score   support\n",
            "\n",
            "       angry       0.51      0.58      0.54       958\n",
            "     disgust       0.67      0.52      0.59       111\n",
            "        fear       0.53      0.41      0.46      1024\n",
            "       happy       0.84      0.83      0.83      1774\n",
            "     neutral       0.53      0.61      0.57      1233\n",
            "         sad       0.51      0.51      0.51      1247\n",
            "    surprise       0.75      0.76      0.75       831\n",
            "\n",
            "    accuracy                           0.63      7178\n",
            "   macro avg       0.62      0.60      0.61      7178\n",
            "weighted avg       0.63      0.63      0.63      7178\n",
            "\n"
          ]
        },
        {
          "output_type": "display_data",
          "data": {
            "text/plain": [
              "<Figure size 800x600 with 2 Axes>"
            ],
            "image/png": "[encoded data removed]"
          },
          "metadata": {}
        }
      ]
    },
    {
      "cell_type": "markdown",
      "source": [
        "**优化**"
      ],
      "metadata": {
        "id": "LHi5gv8_H6fP"
      }
    },
    {
      "cell_type": "code",
      "source": [
        "# ✅ Step 1: 挂载 Google Drive\n",
        "from google.colab import drive\n",
        "drive.mount('/content/drive')\n",
        "\n",
        "# ✅ Step 2: 导入库\n",
        "import torch\n",
        "import torch.nn as nn\n",
        "import torch.optim as optim\n",
        "from torchvision import datasets, transforms, models\n",
        "from torch.utils.data import DataLoader, WeightedRandomSampler\n",
        "from sklearn.metrics import accuracy_score\n",
        "from sklearn.utils.class_weight import compute_class_weight\n",
        "from tqdm import tqdm\n",
        "import numpy as np\n",
        "import os\n",
        "import shutil\n",
        "\n",
        "# ✅ Step 3: 设置参数\n",
        "BATCH_SIZE = 64\n",
        "EPOCHS = 50\n",
        "PATIENCE = 7\n",
        "LR = 1e-4\n",
        "NUM_CLASSES = 7\n",
        "device = torch.device(\"cuda\" if torch.cuda.is_available() else \"cpu\")\n",
        "\n",
        "# ✅ Step 4: 数据路径\n",
        "train_path = '/content/drive/MyDrive/dataset/train'\n",
        "test_path = '/content/drive/MyDrive/dataset/test'\n",
        "\n",
        "# ✅ Step 5: 数据增强\n",
        "transform = transforms.Compose([\n",
        "    transforms.Grayscale(num_output_channels=3),\n",
        "    transforms.RandomHorizontalFlip(),\n",
        "    transforms.RandomRotation(10),\n",
        "    transforms.ColorJitter(brightness=0.2, contrast=0.2),\n",
        "    transforms.Resize((224, 224)),\n",
        "    transforms.ToTensor(),\n",
        "    transforms.Normalize([0.5]*3, [0.5]*3)\n",
        "])\n",
        "\n",
        "# ✅ Step 6: 加载数据集并处理类别不平衡\n",
        "train_dataset = datasets.ImageFolder(train_path, transform=transform)\n",
        "test_dataset = datasets.ImageFolder(test_path, transform=transform)\n",
        "labels = [label for _, label in train_dataset]\n",
        "class_weights = compute_class_weight(class_weight='balanced', classes=np.unique(labels), y=labels)\n",
        "class_weights_tensor = torch.tensor(class_weights, dtype=torch.float).to(device)\n",
        "sample_weights = [class_weights[label] for label in labels]\n",
        "sampler = WeightedRandomSampler(sample_weights, num_samples=len(sample_weights), replacement=True)\n",
        "\n",
        "train_loader = DataLoader(train_dataset, batch_size=BATCH_SIZE, sampler=sampler)\n",
        "test_loader = DataLoader(test_dataset, batch_size=BATCH_SIZE, shuffle=False)\n",
        "\n",
        "# ✅ Step 7: 加载 MobileNetV2 模型\n",
        "model = models.mobilenet_v2(weights=models.MobileNet_V2_Weights.DEFAULT)\n",
        "model.classifier[1] = nn.Linear(model.last_channel, NUM_CLASSES)\n",
        "model = model.to(device)\n",
        "\n",
        "# ✅ Step 8: 损失函数 + 优化器 + 学习率调度器\n",
        "criterion = nn.CrossEntropyLoss(weight=class_weights_tensor)\n",
        "optimizer = optim.Adam(model.parameters(), lr=LR)\n",
        "scheduler = optim.lr_scheduler.OneCycleLR(\n",
        "    optimizer, max_lr=5e-4, steps_per_epoch=len(train_loader), epochs=EPOCHS\n",
        ")\n",
        "\n",
        "# ✅ Step 9: EarlyStopping 设置\n",
        "best_loss = float('inf')\n",
        "patience_counter = 0\n",
        "\n",
        "# ✅ Step 10: 训练主循环\n",
        "for epoch in range(EPOCHS):\n",
        "    model.train()\n",
        "    epoch_loss = 0\n",
        "    all_preds, all_labels = [], []\n",
        "\n",
        "    loop = tqdm(train_loader, desc=f\"Epoch {epoch+1}/{EPOCHS}\")\n",
        "    for images, labels in loop:\n",
        "        images, labels = images.to(device), labels.to(device)\n",
        "        outputs = model(images)\n",
        "        loss = criterion(outputs, labels)\n",
        "\n",
        "        optimizer.zero_grad()\n",
        "        loss.backward()\n",
        "        optimizer.step()\n",
        "        scheduler.step()\n",
        "\n",
        "        epoch_loss += loss.item()\n",
        "        preds = outputs.argmax(1)\n",
        "        all_preds.extend(preds.cpu().numpy())\n",
        "        all_labels.extend(labels.cpu().numpy())\n",
        "        acc = accuracy_score(all_labels, all_preds)\n",
        "        loop.set_postfix(loss=loss.item(), acc=acc)\n",
        "\n",
        "    train_acc = accuracy_score(all_labels, all_preds)\n",
        "    print(f\"✅ Epoch {epoch+1}: Loss={epoch_loss:.4f}, Train Acc={train_acc:.4f}\")\n",
        "\n",
        "    # 保存最佳模型\n",
        "    if epoch_loss < best_loss:\n",
        "        best_loss = epoch_loss\n",
        "        patience_counter = 0\n",
        "        torch.save(model.state_dict(), 'mobilenetv2_best.pth')\n",
        "        shutil.copy('mobilenetv2_best.pth', '/content/drive/MyDrive/mobilenetv2_best.pth')\n",
        "        print(\"✅ Best model saved to Drive.\")\n",
        "    else:\n",
        "        patience_counter += 1\n",
        "        print(f\"⚠️ EarlyStopping counter: {patience_counter}/{PATIENCE}\")\n",
        "        if patience_counter >= PATIENCE:\n",
        "            print(\"⛔ Early stopping triggered.\")\n",
        "            break\n"
      ],
      "metadata": {
        "colab": {
          "base_uri": "https://localhost:8080/"
        },
        "id": "M807x90v_LJR",
        "outputId": "ff2854e8-164d-4365-a910-e32c281f46fb"
      },
      "execution_count": null,
      "outputs": [
        {
          "output_type": "stream",
          "name": "stdout",
          "text": [
            "Drive already mounted at /content/drive; to attempt to forcibly remount, call drive.mount(\"/content/drive\", force_remount=True).\n"
          ]
        },
        {
          "output_type": "stream",
          "name": "stderr",
          "text": [
            "Epoch 1/50: 100%|██████████| 452/452 [04:03<00:00,  1.86it/s, acc=0.152, loss=1.12]\n"
          ]
        },
        {
          "output_type": "stream",
          "name": "stdout",
          "text": [
            "✅ Epoch 1: Loss=627.8117, Train Acc=0.1516\n",
            "✅ Best model saved to Drive.\n"
          ]
        },
        {
          "output_type": "stream",
          "name": "stderr",
          "text": [
            "Epoch 2/50: 100%|██████████| 452/452 [04:03<00:00,  1.86it/s, acc=0.222, loss=0.844]\n"
          ]
        },
        {
          "output_type": "stream",
          "name": "stdout",
          "text": [
            "✅ Epoch 2: Loss=469.0548, Train Acc=0.2222\n",
            "✅ Best model saved to Drive.\n"
          ]
        },
        {
          "output_type": "stream",
          "name": "stderr",
          "text": [
            "Epoch 3/50: 100%|██████████| 452/452 [04:03<00:00,  1.86it/s, acc=0.33, loss=0.505]\n"
          ]
        },
        {
          "output_type": "stream",
          "name": "stdout",
          "text": [
            "✅ Epoch 3: Loss=384.3739, Train Acc=0.3303\n",
            "✅ Best model saved to Drive.\n"
          ]
        },
        {
          "output_type": "stream",
          "name": "stderr",
          "text": [
            "Epoch 4/50: 100%|██████████| 452/452 [04:03<00:00,  1.85it/s, acc=0.499, loss=0.4]\n"
          ]
        },
        {
          "output_type": "stream",
          "name": "stdout",
          "text": [
            "✅ Epoch 4: Loss=293.1782, Train Acc=0.4985\n",
            "✅ Best model saved to Drive.\n"
          ]
        },
        {
          "output_type": "stream",
          "name": "stderr",
          "text": [
            "Epoch 5/50: 100%|██████████| 452/452 [04:03<00:00,  1.86it/s, acc=0.576, loss=0.462]\n"
          ]
        },
        {
          "output_type": "stream",
          "name": "stdout",
          "text": [
            "✅ Epoch 5: Loss=242.4852, Train Acc=0.5765\n",
            "✅ Best model saved to Drive.\n"
          ]
        },
        {
          "output_type": "stream",
          "name": "stderr",
          "text": [
            "Epoch 6/50: 100%|██████████| 452/452 [04:03<00:00,  1.85it/s, acc=0.612, loss=0.593]\n"
          ]
        },
        {
          "output_type": "stream",
          "name": "stdout",
          "text": [
            "✅ Epoch 6: Loss=217.5448, Train Acc=0.6120\n",
            "✅ Best model saved to Drive.\n"
          ]
        },
        {
          "output_type": "stream",
          "name": "stderr",
          "text": [
            "Epoch 7/50: 100%|██████████| 452/452 [04:04<00:00,  1.85it/s, acc=0.647, loss=0.372]\n"
          ]
        },
        {
          "output_type": "stream",
          "name": "stdout",
          "text": [
            "✅ Epoch 7: Loss=196.7831, Train Acc=0.6469\n",
            "✅ Best model saved to Drive.\n"
          ]
        },
        {
          "output_type": "stream",
          "name": "stderr",
          "text": [
            "Epoch 8/50: 100%|██████████| 452/452 [04:03<00:00,  1.86it/s, acc=0.664, loss=0.403]\n"
          ]
        },
        {
          "output_type": "stream",
          "name": "stdout",
          "text": [
            "✅ Epoch 8: Loss=188.5397, Train Acc=0.6641\n",
            "✅ Best model saved to Drive.\n"
          ]
        },
        {
          "output_type": "stream",
          "name": "stderr",
          "text": [
            "Epoch 9/50: 100%|██████████| 452/452 [04:04<00:00,  1.85it/s, acc=0.677, loss=0.53]\n"
          ]
        },
        {
          "output_type": "stream",
          "name": "stdout",
          "text": [
            "✅ Epoch 9: Loss=179.8521, Train Acc=0.6770\n",
            "✅ Best model saved to Drive.\n"
          ]
        },
        {
          "output_type": "stream",
          "name": "stderr",
          "text": [
            "Epoch 10/50: 100%|██████████| 452/452 [04:03<00:00,  1.86it/s, acc=0.692, loss=0.218]\n"
          ]
        },
        {
          "output_type": "stream",
          "name": "stdout",
          "text": [
            "✅ Epoch 10: Loss=167.6529, Train Acc=0.6923\n",
            "✅ Best model saved to Drive.\n"
          ]
        },
        {
          "output_type": "stream",
          "name": "stderr",
          "text": [
            "Epoch 11/50: 100%|██████████| 452/452 [04:03<00:00,  1.86it/s, acc=0.709, loss=0.292]\n"
          ]
        },
        {
          "output_type": "stream",
          "name": "stdout",
          "text": [
            "✅ Epoch 11: Loss=162.7732, Train Acc=0.7092\n",
            "✅ Best model saved to Drive.\n"
          ]
        },
        {
          "output_type": "stream",
          "name": "stderr",
          "text": [
            "Epoch 12/50: 100%|██████████| 452/452 [04:03<00:00,  1.86it/s, acc=0.715, loss=0.134]\n"
          ]
        },
        {
          "output_type": "stream",
          "name": "stdout",
          "text": [
            "✅ Epoch 12: Loss=157.1042, Train Acc=0.7151\n",
            "✅ Best model saved to Drive.\n"
          ]
        },
        {
          "output_type": "stream",
          "name": "stderr",
          "text": [
            "Epoch 13/50: 100%|██████████| 452/452 [04:03<00:00,  1.86it/s, acc=0.72, loss=0.653]\n"
          ]
        },
        {
          "output_type": "stream",
          "name": "stdout",
          "text": [
            "✅ Epoch 13: Loss=158.0756, Train Acc=0.7201\n",
            "⚠️ EarlyStopping counter: 1/7\n"
          ]
        },
        {
          "output_type": "stream",
          "name": "stderr",
          "text": [
            "Epoch 14/50: 100%|██████████| 452/452 [04:02<00:00,  1.86it/s, acc=0.745, loss=0.302]\n"
          ]
        },
        {
          "output_type": "stream",
          "name": "stdout",
          "text": [
            "✅ Epoch 14: Loss=141.9522, Train Acc=0.7446\n",
            "✅ Best model saved to Drive.\n"
          ]
        },
        {
          "output_type": "stream",
          "name": "stderr",
          "text": [
            "Epoch 15/50: 100%|██████████| 452/452 [04:02<00:00,  1.86it/s, acc=0.742, loss=0.439]\n"
          ]
        },
        {
          "output_type": "stream",
          "name": "stdout",
          "text": [
            "✅ Epoch 15: Loss=145.4431, Train Acc=0.7417\n",
            "⚠️ EarlyStopping counter: 1/7\n"
          ]
        },
        {
          "output_type": "stream",
          "name": "stderr",
          "text": [
            "Epoch 16/50: 100%|██████████| 452/452 [04:02<00:00,  1.86it/s, acc=0.762, loss=0.25]\n"
          ]
        },
        {
          "output_type": "stream",
          "name": "stdout",
          "text": [
            "✅ Epoch 16: Loss=130.5722, Train Acc=0.7619\n",
            "✅ Best model saved to Drive.\n"
          ]
        },
        {
          "output_type": "stream",
          "name": "stderr",
          "text": [
            "Epoch 17/50: 100%|██████████| 452/452 [04:03<00:00,  1.86it/s, acc=0.771, loss=0.287]\n"
          ]
        },
        {
          "output_type": "stream",
          "name": "stdout",
          "text": [
            "✅ Epoch 17: Loss=127.2435, Train Acc=0.7706\n",
            "✅ Best model saved to Drive.\n"
          ]
        },
        {
          "output_type": "stream",
          "name": "stderr",
          "text": [
            "Epoch 18/50: 100%|██████████| 452/452 [04:03<00:00,  1.86it/s, acc=0.77, loss=0.227]\n"
          ]
        },
        {
          "output_type": "stream",
          "name": "stdout",
          "text": [
            "✅ Epoch 18: Loss=128.3048, Train Acc=0.7704\n",
            "⚠️ EarlyStopping counter: 1/7\n"
          ]
        },
        {
          "output_type": "stream",
          "name": "stderr",
          "text": [
            "Epoch 19/50: 100%|██████████| 452/452 [04:03<00:00,  1.86it/s, acc=0.808, loss=0.213]\n"
          ]
        },
        {
          "output_type": "stream",
          "name": "stdout",
          "text": [
            "✅ Epoch 19: Loss=105.3568, Train Acc=0.8084\n",
            "✅ Best model saved to Drive.\n"
          ]
        },
        {
          "output_type": "stream",
          "name": "stderr",
          "text": [
            "Epoch 20/50: 100%|██████████| 452/452 [04:03<00:00,  1.86it/s, acc=0.806, loss=0.267]\n"
          ]
        },
        {
          "output_type": "stream",
          "name": "stdout",
          "text": [
            "✅ Epoch 20: Loss=109.7464, Train Acc=0.8061\n",
            "⚠️ EarlyStopping counter: 1/7\n"
          ]
        },
        {
          "output_type": "stream",
          "name": "stderr",
          "text": [
            "Epoch 21/50: 100%|██████████| 452/452 [04:03<00:00,  1.86it/s, acc=0.82, loss=0.152]\n"
          ]
        },
        {
          "output_type": "stream",
          "name": "stdout",
          "text": [
            "✅ Epoch 21: Loss=97.7929, Train Acc=0.8198\n",
            "✅ Best model saved to Drive.\n"
          ]
        },
        {
          "output_type": "stream",
          "name": "stderr",
          "text": [
            "Epoch 22/50: 100%|██████████| 452/452 [04:02<00:00,  1.86it/s, acc=0.829, loss=0.248]\n"
          ]
        },
        {
          "output_type": "stream",
          "name": "stdout",
          "text": [
            "✅ Epoch 22: Loss=93.4795, Train Acc=0.8288\n",
            "✅ Best model saved to Drive.\n"
          ]
        },
        {
          "output_type": "stream",
          "name": "stderr",
          "text": [
            "Epoch 23/50: 100%|██████████| 452/452 [04:02<00:00,  1.86it/s, acc=0.842, loss=0.469]\n"
          ]
        },
        {
          "output_type": "stream",
          "name": "stdout",
          "text": [
            "✅ Epoch 23: Loss=87.7705, Train Acc=0.8418\n",
            "✅ Best model saved to Drive.\n"
          ]
        },
        {
          "output_type": "stream",
          "name": "stderr",
          "text": [
            "Epoch 24/50: 100%|██████████| 452/452 [04:03<00:00,  1.85it/s, acc=0.849, loss=0.186]\n"
          ]
        },
        {
          "output_type": "stream",
          "name": "stdout",
          "text": [
            "✅ Epoch 24: Loss=84.7086, Train Acc=0.8489\n",
            "✅ Best model saved to Drive.\n"
          ]
        },
        {
          "output_type": "stream",
          "name": "stderr",
          "text": [
            "Epoch 25/50: 100%|██████████| 452/452 [04:03<00:00,  1.86it/s, acc=0.874, loss=0.155]\n"
          ]
        },
        {
          "output_type": "stream",
          "name": "stdout",
          "text": [
            "✅ Epoch 25: Loss=70.1065, Train Acc=0.8740\n",
            "✅ Best model saved to Drive.\n"
          ]
        },
        {
          "output_type": "stream",
          "name": "stderr",
          "text": [
            "Epoch 26/50: 100%|██████████| 452/452 [04:03<00:00,  1.86it/s, acc=0.865, loss=0.191]\n"
          ]
        },
        {
          "output_type": "stream",
          "name": "stdout",
          "text": [
            "✅ Epoch 26: Loss=75.8271, Train Acc=0.8645\n",
            "⚠️ EarlyStopping counter: 1/7\n"
          ]
        },
        {
          "output_type": "stream",
          "name": "stderr",
          "text": [
            "Epoch 27/50: 100%|██████████| 452/452 [04:03<00:00,  1.86it/s, acc=0.885, loss=0.304]\n"
          ]
        },
        {
          "output_type": "stream",
          "name": "stdout",
          "text": [
            "✅ Epoch 27: Loss=63.3455, Train Acc=0.8853\n",
            "✅ Best model saved to Drive.\n"
          ]
        },
        {
          "output_type": "stream",
          "name": "stderr",
          "text": [
            "Epoch 28/50: 100%|██████████| 452/452 [04:03<00:00,  1.86it/s, acc=0.901, loss=0.069]\n"
          ]
        },
        {
          "output_type": "stream",
          "name": "stdout",
          "text": [
            "✅ Epoch 28: Loss=54.3826, Train Acc=0.9012\n",
            "✅ Best model saved to Drive.\n"
          ]
        },
        {
          "output_type": "stream",
          "name": "stderr",
          "text": [
            "Epoch 29/50: 100%|██████████| 452/452 [04:02<00:00,  1.86it/s, acc=0.905, loss=0.111]\n"
          ]
        },
        {
          "output_type": "stream",
          "name": "stdout",
          "text": [
            "✅ Epoch 29: Loss=52.6014, Train Acc=0.9048\n",
            "✅ Best model saved to Drive.\n"
          ]
        },
        {
          "output_type": "stream",
          "name": "stderr",
          "text": [
            "Epoch 30/50: 100%|██████████| 452/452 [04:03<00:00,  1.85it/s, acc=0.922, loss=0.121]\n"
          ]
        },
        {
          "output_type": "stream",
          "name": "stdout",
          "text": [
            "✅ Epoch 30: Loss=43.7541, Train Acc=0.9218\n",
            "✅ Best model saved to Drive.\n"
          ]
        },
        {
          "output_type": "stream",
          "name": "stderr",
          "text": [
            "Epoch 31/50: 100%|██████████| 452/452 [04:03<00:00,  1.86it/s, acc=0.927, loss=0.0297]\n"
          ]
        },
        {
          "output_type": "stream",
          "name": "stdout",
          "text": [
            "✅ Epoch 31: Loss=40.5672, Train Acc=0.9274\n",
            "✅ Best model saved to Drive.\n"
          ]
        },
        {
          "output_type": "stream",
          "name": "stderr",
          "text": [
            "Epoch 32/50: 100%|██████████| 452/452 [04:03<00:00,  1.86it/s, acc=0.934, loss=0.0257]\n"
          ]
        },
        {
          "output_type": "stream",
          "name": "stdout",
          "text": [
            "✅ Epoch 32: Loss=35.6098, Train Acc=0.9342\n",
            "✅ Best model saved to Drive.\n"
          ]
        },
        {
          "output_type": "stream",
          "name": "stderr",
          "text": [
            "Epoch 33/50: 100%|██████████| 452/452 [04:03<00:00,  1.86it/s, acc=0.943, loss=0.041]\n"
          ]
        },
        {
          "output_type": "stream",
          "name": "stdout",
          "text": [
            "✅ Epoch 33: Loss=31.4228, Train Acc=0.9429\n",
            "✅ Best model saved to Drive.\n"
          ]
        },
        {
          "output_type": "stream",
          "name": "stderr",
          "text": [
            "Epoch 34/50: 100%|██████████| 452/452 [04:03<00:00,  1.86it/s, acc=0.948, loss=0.0456]\n"
          ]
        },
        {
          "output_type": "stream",
          "name": "stdout",
          "text": [
            "✅ Epoch 34: Loss=28.4240, Train Acc=0.9475\n",
            "✅ Best model saved to Drive.\n"
          ]
        },
        {
          "output_type": "stream",
          "name": "stderr",
          "text": [
            "Epoch 35/50: 100%|██████████| 452/452 [04:03<00:00,  1.86it/s, acc=0.955, loss=0.0871]\n"
          ]
        },
        {
          "output_type": "stream",
          "name": "stdout",
          "text": [
            "✅ Epoch 35: Loss=25.2278, Train Acc=0.9551\n",
            "✅ Best model saved to Drive.\n"
          ]
        },
        {
          "output_type": "stream",
          "name": "stderr",
          "text": [
            "Epoch 36/50: 100%|██████████| 452/452 [04:03<00:00,  1.86it/s, acc=0.958, loss=0.0136]\n"
          ]
        },
        {
          "output_type": "stream",
          "name": "stdout",
          "text": [
            "✅ Epoch 36: Loss=23.9202, Train Acc=0.9575\n",
            "✅ Best model saved to Drive.\n"
          ]
        },
        {
          "output_type": "stream",
          "name": "stderr",
          "text": [
            "Epoch 37/50: 100%|██████████| 452/452 [04:03<00:00,  1.86it/s, acc=0.965, loss=0.089]\n"
          ]
        },
        {
          "output_type": "stream",
          "name": "stdout",
          "text": [
            "✅ Epoch 37: Loss=19.7005, Train Acc=0.9652\n",
            "✅ Best model saved to Drive.\n"
          ]
        },
        {
          "output_type": "stream",
          "name": "stderr",
          "text": [
            "Epoch 38/50: 100%|██████████| 452/452 [04:03<00:00,  1.85it/s, acc=0.971, loss=0.0474]\n"
          ]
        },
        {
          "output_type": "stream",
          "name": "stdout",
          "text": [
            "✅ Epoch 38: Loss=16.4856, Train Acc=0.9705\n",
            "✅ Best model saved to Drive.\n"
          ]
        },
        {
          "output_type": "stream",
          "name": "stderr",
          "text": [
            "Epoch 39/50: 100%|██████████| 452/452 [04:03<00:00,  1.86it/s, acc=0.974, loss=0.0239]\n"
          ]
        },
        {
          "output_type": "stream",
          "name": "stdout",
          "text": [
            "✅ Epoch 39: Loss=15.0880, Train Acc=0.9736\n",
            "✅ Best model saved to Drive.\n"
          ]
        },
        {
          "output_type": "stream",
          "name": "stderr",
          "text": [
            "Epoch 40/50: 100%|██████████| 452/452 [04:03<00:00,  1.86it/s, acc=0.978, loss=0.0754]\n"
          ]
        },
        {
          "output_type": "stream",
          "name": "stdout",
          "text": [
            "✅ Epoch 40: Loss=13.0656, Train Acc=0.9776\n",
            "✅ Best model saved to Drive.\n"
          ]
        },
        {
          "output_type": "stream",
          "name": "stderr",
          "text": [
            "Epoch 41/50: 100%|██████████| 452/452 [04:03<00:00,  1.86it/s, acc=0.979, loss=0.0294]\n"
          ]
        },
        {
          "output_type": "stream",
          "name": "stdout",
          "text": [
            "✅ Epoch 41: Loss=12.1161, Train Acc=0.9790\n",
            "✅ Best model saved to Drive.\n"
          ]
        },
        {
          "output_type": "stream",
          "name": "stderr",
          "text": [
            "Epoch 42/50: 100%|██████████| 452/452 [04:02<00:00,  1.86it/s, acc=0.982, loss=0.00822]\n"
          ]
        },
        {
          "output_type": "stream",
          "name": "stdout",
          "text": [
            "✅ Epoch 42: Loss=10.4743, Train Acc=0.9819\n",
            "✅ Best model saved to Drive.\n"
          ]
        },
        {
          "output_type": "stream",
          "name": "stderr",
          "text": [
            "Epoch 43/50: 100%|██████████| 452/452 [04:03<00:00,  1.86it/s, acc=0.984, loss=0.034]\n"
          ]
        },
        {
          "output_type": "stream",
          "name": "stdout",
          "text": [
            "✅ Epoch 43: Loss=9.5328, Train Acc=0.9837\n",
            "✅ Best model saved to Drive.\n"
          ]
        },
        {
          "output_type": "stream",
          "name": "stderr",
          "text": [
            "Epoch 44/50: 100%|██████████| 452/452 [04:02<00:00,  1.86it/s, acc=0.986, loss=0.00862]\n"
          ]
        },
        {
          "output_type": "stream",
          "name": "stdout",
          "text": [
            "✅ Epoch 44: Loss=8.0764, Train Acc=0.9858\n",
            "✅ Best model saved to Drive.\n"
          ]
        },
        {
          "output_type": "stream",
          "name": "stderr",
          "text": [
            "Epoch 45/50: 100%|██████████| 452/452 [04:02<00:00,  1.87it/s, acc=0.986, loss=0.0168]\n"
          ]
        },
        {
          "output_type": "stream",
          "name": "stdout",
          "text": [
            "✅ Epoch 45: Loss=8.1531, Train Acc=0.9858\n",
            "⚠️ EarlyStopping counter: 1/7\n"
          ]
        },
        {
          "output_type": "stream",
          "name": "stderr",
          "text": [
            "Epoch 46/50: 100%|██████████| 452/452 [04:02<00:00,  1.86it/s, acc=0.987, loss=0.00569]\n"
          ]
        },
        {
          "output_type": "stream",
          "name": "stdout",
          "text": [
            "✅ Epoch 46: Loss=7.2615, Train Acc=0.9872\n",
            "✅ Best model saved to Drive.\n"
          ]
        },
        {
          "output_type": "stream",
          "name": "stderr",
          "text": [
            "Epoch 47/50: 100%|██████████| 452/452 [04:03<00:00,  1.86it/s, acc=0.987, loss=0.0281]\n"
          ]
        },
        {
          "output_type": "stream",
          "name": "stdout",
          "text": [
            "✅ Epoch 47: Loss=7.2522, Train Acc=0.9872\n",
            "✅ Best model saved to Drive.\n"
          ]
        },
        {
          "output_type": "stream",
          "name": "stderr",
          "text": [
            "Epoch 48/50: 100%|██████████| 452/452 [04:03<00:00,  1.86it/s, acc=0.988, loss=0.0341]\n"
          ]
        },
        {
          "output_type": "stream",
          "name": "stdout",
          "text": [
            "✅ Epoch 48: Loss=6.7851, Train Acc=0.9880\n",
            "✅ Best model saved to Drive.\n"
          ]
        },
        {
          "output_type": "stream",
          "name": "stderr",
          "text": [
            "Epoch 49/50: 100%|██████████| 452/452 [04:02<00:00,  1.87it/s, acc=0.989, loss=0.00755]\n"
          ]
        },
        {
          "output_type": "stream",
          "name": "stdout",
          "text": [
            "✅ Epoch 49: Loss=6.7822, Train Acc=0.9888\n",
            "✅ Best model saved to Drive.\n"
          ]
        },
        {
          "output_type": "stream",
          "name": "stderr",
          "text": [
            "Epoch 50/50: 100%|██████████| 452/452 [04:02<00:00,  1.86it/s, acc=0.989, loss=0.0407]"
          ]
        },
        {
          "output_type": "stream",
          "name": "stdout",
          "text": [
            "✅ Epoch 50: Loss=6.3699, Train Acc=0.9892\n",
            "✅ Best model saved to Drive.\n"
          ]
        },
        {
          "output_type": "stream",
          "name": "stderr",
          "text": [
            "\n"
          ]
        }
      ]
    },
    {
      "cell_type": "code",
      "source": [
        "from sklearn.metrics import classification_report, confusion_matrix, accuracy_score, precision_score, recall_score, f1_score\n",
        "import seaborn as sns\n",
        "import matplotlib.pyplot as plt\n",
        "import numpy as np\n",
        "\n",
        "# ✅ 加载最佳模型\n",
        "model.load_state_dict(torch.load('/content/drive/MyDrive/mobilenetv2_best.pth'))\n",
        "model.eval()\n",
        "\n",
        "# ✅ 收集预测与标签\n",
        "all_preds = []\n",
        "all_labels = []\n",
        "\n",
        "with torch.no_grad():\n",
        "    for images, labels in test_loader:\n",
        "        images, labels = images.to(device), labels.to(device)\n",
        "        outputs = model(images)\n",
        "        preds = outputs.argmax(1)\n",
        "        all_preds.extend(preds.cpu().numpy())\n",
        "        all_labels.extend(labels.cpu().numpy())\n",
        "\n",
        "# ✅ 计算四个指标\n",
        "acc = accuracy_score(all_labels, all_preds)\n",
        "precision = precision_score(all_labels, all_preds, average='weighted')\n",
        "recall = recall_score(all_labels, all_preds, average='weighted')\n",
        "f1 = f1_score(all_labels, all_preds, average='weighted')\n",
        "\n",
        "print(\"✅ Final Evaluation on Test Set:\")\n",
        "print(f\"Accuracy: {acc:.4f}\")\n",
        "print(f\"Precision: {precision:.4f}\")\n",
        "print(f\"Recall: {recall:.4f}\")\n",
        "print(f\"F1 Score: {f1:.4f}\")\n",
        "\n",
        "# ✅ 分类报告\n",
        "print(\"\\n📊 Classification Report:\")\n",
        "class_names = train_dataset.classes\n",
        "print(classification_report(all_labels, all_preds, target_names=class_names))\n",
        "\n",
        "# ✅ 混淆矩阵可视化\n",
        "cm = confusion_matrix(all_labels, all_preds)\n",
        "plt.figure(figsize=(8, 6))\n",
        "sns.heatmap(cm, annot=True, fmt=\"d\", cmap=\"Blues\", xticklabels=class_names, yticklabels=class_names)\n",
        "plt.xlabel(\"Predicted\")\n",
        "plt.ylabel(\"True\")\n",
        "plt.title(\"Confusion Matrix - MobileNetV2 on FER2013\")\n",
        "\n",
        "# ✅ 保存图像到 Google Drive\n",
        "plt.savefig('/content/drive/MyDrive/mobilenetv2_confusion_matrix.png')\n",
        "plt.show()\n"
      ],
      "metadata": {
        "colab": {
          "base_uri": "https://localhost:8080/",
          "height": 939
        },
        "id": "zz8Tk5PdHUEU",
        "outputId": "bd9fb011-cdf6-4bb1-c465-a8eb2167dc0c"
      },
      "execution_count": null,
      "outputs": [
        {
          "output_type": "stream",
          "name": "stdout",
          "text": [
            "✅ Final Evaluation on Test Set:\n",
            "Accuracy: 0.6767\n",
            "Precision: 0.6767\n",
            "Recall: 0.6767\n",
            "F1 Score: 0.6765\n",
            "\n",
            "📊 Classification Report:\n",
            "              precision    recall  f1-score   support\n",
            "\n",
            "       angry       0.59      0.60      0.59       958\n",
            "     disgust       0.82      0.68      0.75       111\n",
            "        fear       0.55      0.53      0.54      1024\n",
            "       happy       0.86      0.85      0.85      1774\n",
            "     neutral       0.62      0.62      0.62      1233\n",
            "         sad       0.56      0.57      0.57      1247\n",
            "    surprise       0.79      0.83      0.81       831\n",
            "\n",
            "    accuracy                           0.68      7178\n",
            "   macro avg       0.68      0.67      0.67      7178\n",
            "weighted avg       0.68      0.68      0.68      7178\n",
            "\n"
          ]
        },
        {
          "output_type": "display_data",
          "data": {
            "text/plain": [
              "<Figure size 800x600 with 2 Axes>"
            ],
            "image/png": "[encoded data removed]"
          },
          "metadata": {}
        }
      ]
    },
    {
      "cell_type": "markdown",
      "source": [
        "**不包含数据均衡**"
      ],
      "metadata": {
        "id": "IFpnLkmuH8_l"
      }
    },
    {
      "cell_type": "code",
      "source": [
        "# ✅ Step 1: 挂载 Google Drive\n",
        "from google.colab import drive\n",
        "drive.mount('/content/drive')\n",
        "\n",
        "# ✅ Step 2: 导入库\n",
        "import torch\n",
        "import torch.nn as nn\n",
        "import torch.optim as optim\n",
        "from torchvision import datasets, transforms, models\n",
        "from torch.utils.data import DataLoader\n",
        "from sklearn.metrics import accuracy_score\n",
        "from tqdm import tqdm\n",
        "import os\n",
        "import shutil\n",
        "\n",
        "# ✅ Step 3: 设置参数\n",
        "BATCH_SIZE = 64\n",
        "EPOCHS = 50\n",
        "PATIENCE = 7\n",
        "LR = 1e-4\n",
        "NUM_CLASSES = 7\n",
        "device = torch.device(\"cuda\" if torch.cuda.is_available() else \"cpu\")\n",
        "\n",
        "# ✅ Step 4: 数据路径\n",
        "train_path = '/content/drive/MyDrive/dataset/train'\n",
        "test_path = '/content/drive/MyDrive/dataset/test'\n",
        "\n",
        "# ✅ Step 5: 数据增强（保持）\n",
        "transform = transforms.Compose([\n",
        "    transforms.Grayscale(num_output_channels=3),\n",
        "    transforms.RandomHorizontalFlip(),\n",
        "    transforms.RandomRotation(10),\n",
        "    transforms.ColorJitter(brightness=0.2, contrast=0.2),\n",
        "    transforms.Resize((224, 224)),\n",
        "    transforms.ToTensor(),\n",
        "    transforms.Normalize([0.5]*3, [0.5]*3)\n",
        "])\n",
        "\n",
        "# ✅ Step 6: 加载数据（不使用采样器和权重）\n",
        "train_dataset = datasets.ImageFolder(train_path, transform=transform)\n",
        "test_dataset = datasets.ImageFolder(test_path, transform=transform)\n",
        "\n",
        "train_loader = DataLoader(train_dataset, batch_size=BATCH_SIZE, shuffle=True)\n",
        "test_loader = DataLoader(test_dataset, batch_size=BATCH_SIZE, shuffle=False)\n",
        "\n",
        "# ✅ Step 7: 加载 MobileNetV2 模型\n",
        "model = models.mobilenet_v2(weights=models.MobileNet_V2_Weights.DEFAULT)\n",
        "model.classifier[1] = nn.Linear(model.last_channel, NUM_CLASSES)\n",
        "model = model.to(device)\n",
        "\n",
        "# ✅ Step 8: 损失函数 + 优化器 + 学习率调度器（不带权重）\n",
        "criterion = nn.CrossEntropyLoss()\n",
        "optimizer = optim.Adam(model.parameters(), lr=LR)\n",
        "scheduler = torch.optim.lr_scheduler.OneCycleLR(\n",
        "    optimizer, max_lr=5e-4, steps_per_epoch=len(train_loader), epochs=EPOCHS\n",
        ")\n",
        "\n",
        "# ✅ Step 9: EarlyStopping 设置\n",
        "best_loss = float('inf')\n",
        "patience_counter = 0\n",
        "\n",
        "# ✅ Step 10: 训练主循环\n",
        "for epoch in range(EPOCHS):\n",
        "    model.train()\n",
        "    epoch_loss = 0\n",
        "    all_preds, all_labels = [], []\n",
        "\n",
        "    loop = tqdm(train_loader, desc=f\"Epoch {epoch+1}/{EPOCHS}\")\n",
        "    for images, labels in loop:\n",
        "        images, labels = images.to(device), labels.to(device)\n",
        "        outputs = model(images)\n",
        "        loss = criterion(outputs, labels)\n",
        "\n",
        "        optimizer.zero_grad()\n",
        "        loss.backward()\n",
        "        optimizer.step()\n",
        "        scheduler.step()\n",
        "\n",
        "        epoch_loss += loss.item()\n",
        "        preds = outputs.argmax(1)\n",
        "        all_preds.extend(preds.cpu().numpy())\n",
        "        all_labels.extend(labels.cpu().numpy())\n",
        "        acc = accuracy_score(all_labels, all_preds)\n",
        "        loop.set_postfix(loss=loss.item(), acc=acc)\n",
        "\n",
        "    train_acc = accuracy_score(all_labels, all_preds)\n",
        "    print(f\"✅ Epoch {epoch+1}: Loss={epoch_loss:.4f}, Train Acc={train_acc:.4f}\")\n",
        "\n",
        "    # 保存最佳模型\n",
        "    if epoch_loss < best_loss:\n",
        "        best_loss = epoch_loss\n",
        "        patience_counter = 0\n",
        "        torch.save(model.state_dict(), 'mobilenetv2_best.pth')\n",
        "        shutil.copy('mobilenetv2_best.pth', '/content/drive/MyDrive/mobilenetv2_best.pth')\n",
        "        print(\"✅ Best model saved to Drive.\")\n",
        "    else:\n",
        "        patience_counter += 1\n",
        "        print(f\"⚠️ EarlyStopping counter: {patience_counter}/{PATIENCE}\")\n",
        "        if patience_counter >= PATIENCE:\n",
        "            print(\"⛔ Early stopping triggered.\")\n",
        "            break\n"
      ],
      "metadata": {
        "colab": {
          "base_uri": "https://localhost:8080/"
        },
        "id": "Z2lb_G3BIAVo",
        "outputId": "8ad54fed-608f-472f-8fe8-a11b1ddbe1c5"
      },
      "execution_count": null,
      "outputs": [
        {
          "metadata": {
            "tags": null
          },
          "name": "stdout",
          "output_type": "stream",
          "text": [
            "Drive already mounted at /content/drive; to attempt to forcibly remount, call drive.mount(\"/content/drive\", force_remount=True).\n"
          ]
        },
        {
          "metadata": {
            "tags": null
          },
          "name": "stderr",
          "output_type": "stream",
          "text": [
            "Downloading: \"https://download.pytorch.org/models/mobilenet_v2-7ebf99e0.pth\" to /root/.cache/torch/hub/checkpoints/mobilenet_v2-7ebf99e0.pth\n",
            "100%|██████████| 13.6M/13.6M [00:00<00:00, 75.7MB/s]\n",
            "Epoch 1/50: 100%|██████████| 452/452 [1:36:23<00:00, 12.80s/it, acc=0.288, loss=1.59]\n"
          ]
        },
        {
          "metadata": {
            "tags": null
          },
          "name": "stdout",
          "output_type": "stream",
          "text": [
            "✅ Epoch 1: Loss=797.4171, Train Acc=0.2882\n",
            "✅ Best model saved to Drive.\n"
          ]
        },
        {
          "metadata": {
            "tags": null
          },
          "name": "stderr",
          "output_type": "stream",
          "text": [
            "Epoch 2/50: 100%|██████████| 452/452 [04:00<00:00,  1.88it/s, acc=0.454, loss=1.16]\n"
          ]
        },
        {
          "metadata": {
            "tags": null
          },
          "name": "stdout",
          "output_type": "stream",
          "text": [
            "✅ Epoch 2: Loss=645.4153, Train Acc=0.4544\n",
            "✅ Best model saved to Drive.\n"
          ]
        },
        {
          "metadata": {
            "tags": null
          },
          "name": "stderr",
          "output_type": "stream",
          "text": [
            "Epoch 3/50: 100%|██████████| 452/452 [04:00<00:00,  1.88it/s, acc=0.528, loss=1.2]\n"
          ]
        },
        {
          "metadata": {
            "tags": null
          },
          "name": "stdout",
          "output_type": "stream",
          "text": [
            "✅ Epoch 3: Loss=558.7512, Train Acc=0.5280\n",
            "✅ Best model saved to Drive.\n"
          ]
        },
        {
          "metadata": {
            "tags": null
          },
          "name": "stderr",
          "output_type": "stream",
          "text": [
            "Epoch 4/50: 100%|██████████| 452/452 [04:00<00:00,  1.88it/s, acc=0.577, loss=1.18]\n"
          ]
        },
        {
          "metadata": {
            "tags": null
          },
          "name": "stdout",
          "output_type": "stream",
          "text": [
            "✅ Epoch 4: Loss=503.0704, Train Acc=0.5769\n",
            "✅ Best model saved to Drive.\n"
          ]
        },
        {
          "metadata": {
            "tags": null
          },
          "name": "stderr",
          "output_type": "stream",
          "text": [
            "Epoch 5/50: 100%|██████████| 452/452 [04:00<00:00,  1.88it/s, acc=0.616, loss=0.766]\n"
          ]
        },
        {
          "metadata": {
            "tags": null
          },
          "name": "stdout",
          "output_type": "stream",
          "text": [
            "✅ Epoch 5: Loss=460.8641, Train Acc=0.6164\n",
            "✅ Best model saved to Drive.\n"
          ]
        },
        {
          "metadata": {
            "tags": null
          },
          "name": "stderr",
          "output_type": "stream",
          "text": [
            "Epoch 6/50: 100%|██████████| 452/452 [04:01<00:00,  1.87it/s, acc=0.642, loss=0.745]\n"
          ]
        },
        {
          "metadata": {
            "tags": null
          },
          "name": "stdout",
          "output_type": "stream",
          "text": [
            "✅ Epoch 6: Loss=429.5339, Train Acc=0.6424\n",
            "✅ Best model saved to Drive.\n"
          ]
        },
        {
          "metadata": {
            "tags": null
          },
          "name": "stderr",
          "output_type": "stream",
          "text": [
            "Epoch 7/50: 100%|██████████| 452/452 [04:01<00:00,  1.87it/s, acc=0.662, loss=0.99]\n"
          ]
        },
        {
          "metadata": {
            "tags": null
          },
          "name": "stdout",
          "output_type": "stream",
          "text": [
            "✅ Epoch 7: Loss=406.8523, Train Acc=0.6623\n",
            "✅ Best model saved to Drive.\n"
          ]
        },
        {
          "metadata": {
            "tags": null
          },
          "name": "stderr",
          "output_type": "stream",
          "text": [
            "Epoch 8/50: 100%|██████████| 452/452 [04:00<00:00,  1.88it/s, acc=0.681, loss=0.742]\n"
          ]
        },
        {
          "metadata": {
            "tags": null
          },
          "name": "stdout",
          "output_type": "stream",
          "text": [
            "✅ Epoch 8: Loss=385.4850, Train Acc=0.6808\n",
            "✅ Best model saved to Drive.\n"
          ]
        },
        {
          "metadata": {
            "tags": null
          },
          "name": "stderr",
          "output_type": "stream",
          "text": [
            "Epoch 9/50: 100%|██████████| 452/452 [04:01<00:00,  1.87it/s, acc=0.692, loss=0.956]\n"
          ]
        },
        {
          "metadata": {
            "tags": null
          },
          "name": "stdout",
          "output_type": "stream",
          "text": [
            "✅ Epoch 9: Loss=369.5287, Train Acc=0.6922\n",
            "✅ Best model saved to Drive.\n"
          ]
        },
        {
          "metadata": {
            "tags": null
          },
          "name": "stderr",
          "output_type": "stream",
          "text": [
            "Epoch 10/50: 100%|██████████| 452/452 [04:00<00:00,  1.88it/s, acc=0.708, loss=0.706]\n"
          ]
        },
        {
          "metadata": {
            "tags": null
          },
          "name": "stdout",
          "output_type": "stream",
          "text": [
            "✅ Epoch 10: Loss=351.8395, Train Acc=0.7081\n",
            "✅ Best model saved to Drive.\n"
          ]
        },
        {
          "metadata": {
            "tags": null
          },
          "name": "stderr",
          "output_type": "stream",
          "text": [
            "Epoch 11/50: 100%|██████████| 452/452 [04:01<00:00,  1.87it/s, acc=0.725, loss=0.824]\n"
          ]
        },
        {
          "metadata": {
            "tags": null
          },
          "name": "stdout",
          "output_type": "stream",
          "text": [
            "✅ Epoch 11: Loss=336.1850, Train Acc=0.7255\n",
            "✅ Best model saved to Drive.\n"
          ]
        },
        {
          "metadata": {
            "tags": null
          },
          "name": "stderr",
          "output_type": "stream",
          "text": [
            "Epoch 12/50: 100%|██████████| 452/452 [04:00<00:00,  1.88it/s, acc=0.732, loss=0.683]\n"
          ]
        },
        {
          "metadata": {
            "tags": null
          },
          "name": "stdout",
          "output_type": "stream",
          "text": [
            "✅ Epoch 12: Loss=325.3434, Train Acc=0.7322\n",
            "✅ Best model saved to Drive.\n"
          ]
        },
        {
          "metadata": {
            "tags": null
          },
          "name": "stderr",
          "output_type": "stream",
          "text": [
            "Epoch 13/50: 100%|██████████| 452/452 [04:00<00:00,  1.88it/s, acc=0.745, loss=0.843]\n"
          ]
        },
        {
          "metadata": {
            "tags": null
          },
          "name": "stdout",
          "output_type": "stream",
          "text": [
            "✅ Epoch 13: Loss=309.7781, Train Acc=0.7452\n",
            "✅ Best model saved to Drive.\n"
          ]
        },
        {
          "metadata": {
            "tags": null
          },
          "name": "stderr",
          "output_type": "stream",
          "text": [
            "Epoch 14/50: 100%|██████████| 452/452 [04:00<00:00,  1.88it/s, acc=0.763, loss=0.342]\n"
          ]
        },
        {
          "metadata": {
            "tags": null
          },
          "name": "stdout",
          "output_type": "stream",
          "text": [
            "✅ Epoch 14: Loss=291.1661, Train Acc=0.7634\n",
            "✅ Best model saved to Drive.\n"
          ]
        },
        {
          "metadata": {
            "tags": null
          },
          "name": "stderr",
          "output_type": "stream",
          "text": [
            "Epoch 15/50: 100%|██████████| 452/452 [04:00<00:00,  1.88it/s, acc=0.773, loss=0.794]\n"
          ]
        },
        {
          "metadata": {
            "tags": null
          },
          "name": "stdout",
          "output_type": "stream",
          "text": [
            "✅ Epoch 15: Loss=278.4220, Train Acc=0.7725\n",
            "✅ Best model saved to Drive.\n"
          ]
        },
        {
          "metadata": {
            "tags": null
          },
          "name": "stderr",
          "output_type": "stream",
          "text": [
            "Epoch 16/50: 100%|██████████| 452/452 [04:00<00:00,  1.88it/s, acc=0.787, loss=0.665]\n"
          ]
        },
        {
          "metadata": {
            "tags": null
          },
          "name": "stdout",
          "output_type": "stream",
          "text": [
            "✅ Epoch 16: Loss=258.0464, Train Acc=0.7868\n",
            "✅ Best model saved to Drive.\n"
          ]
        },
        {
          "metadata": {
            "tags": null
          },
          "name": "stderr",
          "output_type": "stream",
          "text": [
            "Epoch 17/50: 100%|██████████| 452/452 [04:00<00:00,  1.88it/s, acc=0.804, loss=0.538]\n"
          ]
        },
        {
          "metadata": {
            "tags": null
          },
          "name": "stdout",
          "output_type": "stream",
          "text": [
            "✅ Epoch 17: Loss=241.7322, Train Acc=0.8044\n",
            "✅ Best model saved to Drive.\n"
          ]
        },
        {
          "metadata": {
            "tags": null
          },
          "name": "stderr",
          "output_type": "stream",
          "text": [
            "Epoch 18/50: 100%|██████████| 452/452 [04:01<00:00,  1.88it/s, acc=0.82, loss=0.423]\n"
          ]
        },
        {
          "metadata": {
            "tags": null
          },
          "name": "stdout",
          "output_type": "stream",
          "text": [
            "✅ Epoch 18: Loss=221.5942, Train Acc=0.8198\n",
            "✅ Best model saved to Drive.\n"
          ]
        },
        {
          "metadata": {
            "tags": null
          },
          "name": "stderr",
          "output_type": "stream",
          "text": [
            "Epoch 19/50: 100%|██████████| 452/452 [04:00<00:00,  1.88it/s, acc=0.828, loss=0.491]\n"
          ]
        },
        {
          "metadata": {
            "tags": null
          },
          "name": "stdout",
          "output_type": "stream",
          "text": [
            "✅ Epoch 19: Loss=209.8091, Train Acc=0.8278\n",
            "✅ Best model saved to Drive.\n"
          ]
        },
        {
          "metadata": {
            "tags": null
          },
          "name": "stderr",
          "output_type": "stream",
          "text": [
            "Epoch 20/50: 100%|██████████| 452/452 [04:00<00:00,  1.88it/s, acc=0.845, loss=0.284]\n"
          ]
        },
        {
          "metadata": {
            "tags": null
          },
          "name": "stdout",
          "output_type": "stream",
          "text": [
            "✅ Epoch 20: Loss=189.3073, Train Acc=0.8446\n",
            "✅ Best model saved to Drive.\n"
          ]
        },
        {
          "metadata": {
            "tags": null
          },
          "name": "stderr",
          "output_type": "stream",
          "text": [
            "Epoch 21/50: 100%|██████████| 452/452 [04:07<00:00,  1.83it/s, acc=0.86, loss=0.542]\n"
          ]
        },
        {
          "metadata": {
            "tags": null
          },
          "name": "stdout",
          "output_type": "stream",
          "text": [
            "✅ Epoch 21: Loss=172.2572, Train Acc=0.8601\n",
            "✅ Best model saved to Drive.\n"
          ]
        },
        {
          "metadata": {
            "tags": null
          },
          "name": "stderr",
          "output_type": "stream",
          "text": [
            "Epoch 22/50: 100%|██████████| 452/452 [04:05<00:00,  1.84it/s, acc=0.871, loss=0.328]\n"
          ]
        },
        {
          "metadata": {
            "tags": null
          },
          "name": "stdout",
          "output_type": "stream",
          "text": [
            "✅ Epoch 22: Loss=159.8098, Train Acc=0.8711\n",
            "✅ Best model saved to Drive.\n"
          ]
        },
        {
          "metadata": {
            "tags": null
          },
          "name": "stderr",
          "output_type": "stream",
          "text": [
            "Epoch 23/50: 100%|██████████| 452/452 [04:01<00:00,  1.87it/s, acc=0.884, loss=0.408]\n"
          ]
        },
        {
          "metadata": {
            "tags": null
          },
          "name": "stdout",
          "output_type": "stream",
          "text": [
            "✅ Epoch 23: Loss=144.4971, Train Acc=0.8840\n",
            "✅ Best model saved to Drive.\n"
          ]
        },
        {
          "metadata": {
            "tags": null
          },
          "name": "stderr",
          "output_type": "stream",
          "text": [
            "Epoch 24/50: 100%|██████████| 452/452 [04:01<00:00,  1.87it/s, acc=0.893, loss=0.446]\n"
          ]
        },
        {
          "metadata": {
            "tags": null
          },
          "name": "stdout",
          "output_type": "stream",
          "text": [
            "✅ Epoch 24: Loss=131.7474, Train Acc=0.8932\n",
            "✅ Best model saved to Drive.\n"
          ]
        },
        {
          "metadata": {
            "tags": null
          },
          "name": "stderr",
          "output_type": "stream",
          "text": [
            "Epoch 25/50: 100%|██████████| 452/452 [04:01<00:00,  1.87it/s, acc=0.907, loss=0.233]\n"
          ]
        },
        {
          "metadata": {
            "tags": null
          },
          "name": "stdout",
          "output_type": "stream",
          "text": [
            "✅ Epoch 25: Loss=118.1626, Train Acc=0.9073\n",
            "✅ Best model saved to Drive.\n"
          ]
        },
        {
          "metadata": {
            "tags": null
          },
          "name": "stderr",
          "output_type": "stream",
          "text": [
            "Epoch 26/50: 100%|██████████| 452/452 [04:00<00:00,  1.88it/s, acc=0.914, loss=0.236]\n"
          ]
        },
        {
          "metadata": {
            "tags": null
          },
          "name": "stdout",
          "output_type": "stream",
          "text": [
            "✅ Epoch 26: Loss=108.0581, Train Acc=0.9140\n",
            "✅ Best model saved to Drive.\n"
          ]
        },
        {
          "metadata": {
            "tags": null
          },
          "name": "stderr",
          "output_type": "stream",
          "text": [
            "Epoch 27/50: 100%|██████████| 452/452 [04:00<00:00,  1.88it/s, acc=0.923, loss=0.194]\n"
          ]
        },
        {
          "metadata": {
            "tags": null
          },
          "name": "stdout",
          "output_type": "stream",
          "text": [
            "✅ Epoch 27: Loss=94.8133, Train Acc=0.9234\n",
            "✅ Best model saved to Drive.\n"
          ]
        },
        {
          "metadata": {
            "tags": null
          },
          "name": "stderr",
          "output_type": "stream",
          "text": [
            "Epoch 28/50: 100%|██████████| 452/452 [04:00<00:00,  1.88it/s, acc=0.936, loss=0.179]\n"
          ]
        },
        {
          "metadata": {
            "tags": null
          },
          "name": "stdout",
          "output_type": "stream",
          "text": [
            "✅ Epoch 28: Loss=81.4403, Train Acc=0.9358\n",
            "✅ Best model saved to Drive.\n"
          ]
        },
        {
          "metadata": {
            "tags": null
          },
          "name": "stderr",
          "output_type": "stream",
          "text": [
            "Epoch 29/50: 100%|██████████| 452/452 [04:00<00:00,  1.88it/s, acc=0.937, loss=0.204]\n"
          ]
        },
        {
          "metadata": {
            "tags": null
          },
          "name": "stdout",
          "output_type": "stream",
          "text": [
            "✅ Epoch 29: Loss=78.3239, Train Acc=0.9373\n",
            "✅ Best model saved to Drive.\n"
          ]
        },
        {
          "metadata": {
            "tags": null
          },
          "name": "stderr",
          "output_type": "stream",
          "text": [
            "Epoch 30/50: 100%|██████████| 452/452 [04:00<00:00,  1.88it/s, acc=0.947, loss=0.193]\n"
          ]
        },
        {
          "metadata": {
            "tags": null
          },
          "name": "stdout",
          "output_type": "stream",
          "text": [
            "✅ Epoch 30: Loss=68.2525, Train Acc=0.9468\n",
            "✅ Best model saved to Drive.\n"
          ]
        },
        {
          "metadata": {
            "tags": null
          },
          "name": "stderr",
          "output_type": "stream",
          "text": [
            "Epoch 31/50: 100%|██████████| 452/452 [04:00<00:00,  1.88it/s, acc=0.953, loss=0.218]\n"
          ]
        },
        {
          "metadata": {
            "tags": null
          },
          "name": "stdout",
          "output_type": "stream",
          "text": [
            "✅ Epoch 31: Loss=60.9624, Train Acc=0.9525\n",
            "✅ Best model saved to Drive.\n"
          ]
        },
        {
          "metadata": {
            "tags": null
          },
          "name": "stderr",
          "output_type": "stream",
          "text": [
            "Epoch 32/50: 100%|██████████| 452/452 [04:01<00:00,  1.87it/s, acc=0.959, loss=0.0979]\n"
          ]
        },
        {
          "metadata": {
            "tags": null
          },
          "name": "stdout",
          "output_type": "stream",
          "text": [
            "✅ Epoch 32: Loss=52.6749, Train Acc=0.9587\n",
            "✅ Best model saved to Drive.\n"
          ]
        },
        {
          "metadata": {
            "tags": null
          },
          "name": "stderr",
          "output_type": "stream",
          "text": [
            "Epoch 33/50: 100%|██████████| 452/452 [04:01<00:00,  1.87it/s, acc=0.965, loss=0.145]\n"
          ]
        },
        {
          "metadata": {
            "tags": null
          },
          "name": "stdout",
          "output_type": "stream",
          "text": [
            "✅ Epoch 33: Loss=45.5014, Train Acc=0.9653\n",
            "✅ Best model saved to Drive.\n"
          ]
        },
        {
          "metadata": {
            "tags": null
          },
          "name": "stderr",
          "output_type": "stream",
          "text": [
            "Epoch 34/50: 100%|██████████| 452/452 [04:02<00:00,  1.87it/s, acc=0.97, loss=0.108]\n"
          ]
        },
        {
          "metadata": {
            "tags": null
          },
          "name": "stdout",
          "output_type": "stream",
          "text": [
            "✅ Epoch 34: Loss=40.8444, Train Acc=0.9702\n",
            "✅ Best model saved to Drive.\n"
          ]
        },
        {
          "metadata": {
            "tags": null
          },
          "name": "stderr",
          "output_type": "stream",
          "text": [
            "Epoch 35/50: 100%|██████████| 452/452 [04:01<00:00,  1.87it/s, acc=0.975, loss=0.077]\n"
          ]
        },
        {
          "metadata": {
            "tags": null
          },
          "name": "stdout",
          "output_type": "stream",
          "text": [
            "✅ Epoch 35: Loss=33.6630, Train Acc=0.9747\n",
            "✅ Best model saved to Drive.\n"
          ]
        },
        {
          "metadata": {
            "tags": null
          },
          "name": "stderr",
          "output_type": "stream",
          "text": [
            "Epoch 36/50: 100%|██████████| 452/452 [04:01<00:00,  1.87it/s, acc=0.977, loss=0.155]\n"
          ]
        },
        {
          "metadata": {
            "tags": null
          },
          "name": "stdout",
          "output_type": "stream",
          "text": [
            "✅ Epoch 36: Loss=30.7980, Train Acc=0.9769\n",
            "✅ Best model saved to Drive.\n"
          ]
        },
        {
          "metadata": {
            "tags": null
          },
          "name": "stderr",
          "output_type": "stream",
          "text": [
            "Epoch 37/50: 100%|██████████| 452/452 [04:01<00:00,  1.87it/s, acc=0.978, loss=0.14]\n"
          ]
        },
        {
          "metadata": {
            "tags": null
          },
          "name": "stdout",
          "output_type": "stream",
          "text": [
            "✅ Epoch 37: Loss=29.1547, Train Acc=0.9781\n",
            "✅ Best model saved to Drive.\n"
          ]
        },
        {
          "metadata": {
            "tags": null
          },
          "name": "stderr",
          "output_type": "stream",
          "text": [
            "Epoch 38/50: 100%|██████████| 452/452 [04:00<00:00,  1.88it/s, acc=0.982, loss=0.034]\n"
          ]
        },
        {
          "metadata": {
            "tags": null
          },
          "name": "stdout",
          "output_type": "stream",
          "text": [
            "✅ Epoch 38: Loss=24.4386, Train Acc=0.9816\n",
            "✅ Best model saved to Drive.\n"
          ]
        },
        {
          "metadata": {
            "tags": null
          },
          "name": "stderr",
          "output_type": "stream",
          "text": [
            "Epoch 39/50: 100%|██████████| 452/452 [04:01<00:00,  1.88it/s, acc=0.985, loss=0.054]\n"
          ]
        },
        {
          "metadata": {
            "tags": null
          },
          "name": "stdout",
          "output_type": "stream",
          "text": [
            "✅ Epoch 39: Loss=19.6239, Train Acc=0.9848\n",
            "✅ Best model saved to Drive.\n"
          ]
        },
        {
          "metadata": {
            "tags": null
          },
          "name": "stderr",
          "output_type": "stream",
          "text": [
            "Epoch 40/50: 100%|██████████| 452/452 [04:00<00:00,  1.88it/s, acc=0.985, loss=0.000883]\n"
          ]
        },
        {
          "metadata": {
            "tags": null
          },
          "name": "stdout",
          "output_type": "stream",
          "text": [
            "✅ Epoch 40: Loss=19.7830, Train Acc=0.9850\n",
            "⚠️ EarlyStopping counter: 1/7\n"
          ]
        },
        {
          "metadata": {
            "tags": null
          },
          "name": "stderr",
          "output_type": "stream",
          "text": [
            "Epoch 41/50: 100%|██████████| 452/452 [04:00<00:00,  1.88it/s, acc=0.988, loss=0.00927]\n"
          ]
        },
        {
          "metadata": {
            "tags": null
          },
          "name": "stdout",
          "output_type": "stream",
          "text": [
            "✅ Epoch 41: Loss=16.1806, Train Acc=0.9881\n",
            "✅ Best model saved to Drive.\n"
          ]
        },
        {
          "metadata": {
            "tags": null
          },
          "name": "stderr",
          "output_type": "stream",
          "text": [
            "Epoch 42/50: 100%|██████████| 452/452 [04:00<00:00,  1.88it/s, acc=0.99, loss=0.0341]\n"
          ]
        },
        {
          "metadata": {
            "tags": null
          },
          "name": "stdout",
          "output_type": "stream",
          "text": [
            "✅ Epoch 42: Loss=13.9196, Train Acc=0.9895\n",
            "✅ Best model saved to Drive.\n"
          ]
        },
        {
          "output_type": "stream",
          "name": "stderr",
          "text": [
            "Epoch 43/50: 100%|██████████| 452/452 [04:00<00:00,  1.88it/s, acc=0.991, loss=0.00278]\n"
          ]
        },
        {
          "output_type": "stream",
          "name": "stdout",
          "text": [
            "✅ Epoch 43: Loss=11.8746, Train Acc=0.9909\n",
            "✅ Best model saved to Drive.\n"
          ]
        },
        {
          "output_type": "stream",
          "name": "stderr",
          "text": [
            "Epoch 44/50: 100%|██████████| 452/452 [04:01<00:00,  1.87it/s, acc=0.992, loss=0.0136]\n"
          ]
        },
        {
          "output_type": "stream",
          "name": "stdout",
          "text": [
            "✅ Epoch 44: Loss=10.6783, Train Acc=0.9921\n",
            "✅ Best model saved to Drive.\n"
          ]
        },
        {
          "output_type": "stream",
          "name": "stderr",
          "text": [
            "Epoch 45/50: 100%|██████████| 452/452 [04:00<00:00,  1.88it/s, acc=0.993, loss=0.0374]\n"
          ]
        },
        {
          "output_type": "stream",
          "name": "stdout",
          "text": [
            "✅ Epoch 45: Loss=9.8132, Train Acc=0.9928\n",
            "✅ Best model saved to Drive.\n"
          ]
        },
        {
          "output_type": "stream",
          "name": "stderr",
          "text": [
            "Epoch 46/50: 100%|██████████| 452/452 [04:00<00:00,  1.88it/s, acc=0.993, loss=0.00503]\n"
          ]
        },
        {
          "output_type": "stream",
          "name": "stdout",
          "text": [
            "✅ Epoch 46: Loss=9.3265, Train Acc=0.9927\n",
            "✅ Best model saved to Drive.\n"
          ]
        },
        {
          "output_type": "stream",
          "name": "stderr",
          "text": [
            "Epoch 47/50: 100%|██████████| 452/452 [04:00<00:00,  1.88it/s, acc=0.994, loss=0.00321]\n"
          ]
        },
        {
          "output_type": "stream",
          "name": "stdout",
          "text": [
            "✅ Epoch 47: Loss=8.0926, Train Acc=0.9941\n",
            "✅ Best model saved to Drive.\n"
          ]
        },
        {
          "output_type": "stream",
          "name": "stderr",
          "text": [
            "Epoch 48/50: 100%|██████████| 452/452 [04:01<00:00,  1.87it/s, acc=0.994, loss=0.0217]\n"
          ]
        },
        {
          "output_type": "stream",
          "name": "stdout",
          "text": [
            "✅ Epoch 48: Loss=8.3369, Train Acc=0.9937\n",
            "⚠️ EarlyStopping counter: 1/7\n"
          ]
        },
        {
          "output_type": "stream",
          "name": "stderr",
          "text": [
            "Epoch 49/50: 100%|██████████| 452/452 [04:01<00:00,  1.88it/s, acc=0.994, loss=0.00351]\n"
          ]
        },
        {
          "output_type": "stream",
          "name": "stdout",
          "text": [
            "✅ Epoch 49: Loss=8.4233, Train Acc=0.9936\n",
            "⚠️ EarlyStopping counter: 2/7\n"
          ]
        },
        {
          "output_type": "stream",
          "name": "stderr",
          "text": [
            "Epoch 50/50: 100%|██████████| 452/452 [04:00<00:00,  1.88it/s, acc=0.994, loss=0.0031]"
          ]
        },
        {
          "output_type": "stream",
          "name": "stdout",
          "text": [
            "✅ Epoch 50: Loss=7.8849, Train Acc=0.9944\n",
            "✅ Best model saved to Drive.\n"
          ]
        },
        {
          "output_type": "stream",
          "name": "stderr",
          "text": [
            "\n"
          ]
        }
      ]
    },
    {
      "cell_type": "code",
      "source": [
        "from sklearn.metrics import classification_report, confusion_matrix\n",
        "import seaborn as sns\n",
        "import matplotlib.pyplot as plt\n",
        "import numpy as np\n",
        "\n",
        "# ✅ 加载保存的最佳模型\n",
        "model.load_state_dict(torch.load('/content/drive/MyDrive/mobilenetv2_best.pth'))\n",
        "model.eval()\n",
        "\n",
        "# ✅ 收集所有预测与真实标签\n",
        "all_preds = []\n",
        "all_labels = []\n",
        "\n",
        "with torch.no_grad():\n",
        "    for images, labels in tqdm(test_loader, desc=\"Evaluating on test set\"):\n",
        "        images, labels = images.to(device), labels.to(device)\n",
        "        outputs = model(images)\n",
        "        preds = outputs.argmax(1)\n",
        "\n",
        "        all_preds.extend(preds.cpu().numpy())\n",
        "        all_labels.extend(labels.cpu().numpy())\n",
        "\n",
        "# ✅ 计算四个指标\n",
        "print(\"📊 Classification Report:\")\n",
        "target_names = test_dataset.classes  # 类别名称\n",
        "report = classification_report(all_labels, all_preds, target_names=target_names, digits=4)\n",
        "print(report)\n",
        "\n",
        "# ✅ 混淆矩阵\n",
        "cm = confusion_matrix(all_labels, all_preds)\n",
        "plt.figure(figsize=(8, 6))\n",
        "sns.heatmap(cm, annot=True, fmt=\"d\", cmap=\"Blues\", xticklabels=target_names, yticklabels=target_names)\n",
        "plt.xlabel(\"Predicted\")\n",
        "plt.ylabel(\"True\")\n",
        "plt.title(\"Confusion Matrix\")\n",
        "plt.show()\n"
      ],
      "metadata": {
        "colab": {
          "base_uri": "https://localhost:8080/",
          "height": 850
        },
        "id": "Upf2GGb4MwgG",
        "outputId": "fb973e33-6f93-4520-d413-e4bbb518ff0b"
      },
      "execution_count": null,
      "outputs": [
        {
          "output_type": "stream",
          "name": "stderr",
          "text": [
            "Evaluating on test set: 100%|██████████| 113/113 [00:52<00:00,  2.15it/s]\n"
          ]
        },
        {
          "output_type": "stream",
          "name": "stdout",
          "text": [
            "📊 Classification Report:\n",
            "              precision    recall  f1-score   support\n",
            "\n",
            "       angry     0.6279    0.6148    0.6213       958\n",
            "     disgust     0.8065    0.6757    0.7353       111\n",
            "        fear     0.5909    0.5049    0.5445      1024\n",
            "       happy     0.8735    0.8833    0.8784      1774\n",
            "     neutral     0.6187    0.6829    0.6492      1233\n",
            "         sad     0.5507    0.5613    0.5560      1247\n",
            "    surprise     0.8121    0.8267    0.8193       831\n",
            "\n",
            "    accuracy                         0.6934      7178\n",
            "   macro avg     0.6972    0.6785    0.6863      7178\n",
            "weighted avg     0.6924    0.6934    0.6920      7178\n",
            "\n"
          ]
        },
        {
          "output_type": "display_data",
          "data": {
            "text/plain": [
              "<Figure size 800x600 with 2 Axes>"
            ],
            "image/png": "[encoded data removed]"
          },
          "metadata": {}
        }
      ]
    },
    {
      "cell_type": "code",
      "source": [
        "from sklearn.metrics import classification_report, confusion_matrix\n",
        "import seaborn as sns\n",
        "import matplotlib.pyplot as plt\n",
        "\n",
        "# ✅ 设置模型为评估模式\n",
        "model.eval()\n",
        "\n",
        "# ✅ 收集训练集上的预测与标签\n",
        "train_preds = []\n",
        "train_labels = []\n",
        "\n",
        "with torch.no_grad():\n",
        "    for images, labels in tqdm(train_loader, desc=\"Evaluating on train set\"):\n",
        "        images, labels = images.to(device), labels.to(device)\n",
        "        outputs = model(images)\n",
        "        preds = outputs.argmax(1)\n",
        "\n",
        "        train_preds.extend(preds.cpu().numpy())\n",
        "        train_labels.extend(labels.cpu().numpy())\n",
        "\n",
        "# ✅ 输出四个指标\n",
        "print(\"📊 Train Set Classification Report:\")\n",
        "print(classification_report(train_labels, train_preds, target_names=train_dataset.classes, digits=4))\n",
        "\n",
        "# ✅ 绘制训练集混淆矩阵\n",
        "train_cm = confusion_matrix(train_labels, train_preds)\n",
        "plt.figure(figsize=(8, 6))\n",
        "sns.heatmap(train_cm, annot=True, fmt=\"d\", cmap=\"Greens\",\n",
        "            xticklabels=train_dataset.classes, yticklabels=train_dataset.classes)\n",
        "plt.xlabel(\"Predicted\")\n",
        "plt.ylabel(\"True\")\n",
        "plt.title(\"Confusion Matrix on Train Set\")\n",
        "plt.show()\n"
      ],
      "metadata": {
        "colab": {
          "base_uri": "https://localhost:8080/",
          "height": 850
        },
        "id": "0UlYqC4gPF8y",
        "outputId": "8cd67a68-36b7-49d8-b80e-64b6820fbc54"
      },
      "execution_count": null,
      "outputs": [
        {
          "output_type": "stream",
          "name": "stderr",
          "text": [
            "Evaluating on train set: 100%|██████████| 452/452 [02:54<00:00,  2.59it/s]\n"
          ]
        },
        {
          "output_type": "stream",
          "name": "stdout",
          "text": [
            "📊 Train Set Classification Report:\n",
            "              precision    recall  f1-score   support\n",
            "\n",
            "       angry     0.9942    0.9959    0.9950      4125\n",
            "     disgust     0.9954    0.9931    0.9943       436\n",
            "        fear     0.9930    0.9899    0.9914      4147\n",
            "       happy     0.9999    0.9993    0.9996      7222\n",
            "     neutral     0.9962    0.9986    0.9974      4985\n",
            "         sad     0.9954    0.9950    0.9952      4830\n",
            "    surprise     0.9940    0.9943    0.9942      3171\n",
            "\n",
            "    accuracy                         0.9960     28916\n",
            "   macro avg     0.9954    0.9952    0.9953     28916\n",
            "weighted avg     0.9960    0.9960    0.9960     28916\n",
            "\n"
          ]
        },
        {
          "output_type": "display_data",
          "data": {
            "text/plain": [
              "<Figure size 800x600 with 2 Axes>"
            ],
            "image/png": "[encoded data removed]"
          },
          "metadata": {}
        }
      ]
    },
    {
      "cell_type": "code",
      "source": [
        "from sklearn.metrics import accuracy_score, precision_score, recall_score, f1_score\n",
        "\n",
        "accuracy = accuracy_score(all_labels, all_preds)\n",
        "precision = precision_score(all_labels, all_preds, average='macro')\n",
        "recall = recall_score(all_labels, all_preds, average='macro')\n",
        "f1 = f1_score(all_labels, all_preds, average='macro')\n",
        "\n",
        "print(f\"✅ Accuracy: {accuracy:.4f}\")\n",
        "print(f\"✅ Precision (macro): {precision:.4f}\")\n",
        "print(f\"✅ Recall (macro): {recall:.4f}\")\n",
        "print(f\"✅ F1-score (macro): {f1:.4f}\")\n"
      ],
      "metadata": {
        "colab": {
          "base_uri": "https://localhost:8080/"
        },
        "id": "Btj2nMTEQHVq",
        "outputId": "2ae1e712-1039-444f-8515-561a002f2571"
      },
      "execution_count": null,
      "outputs": [
        {
          "output_type": "stream",
          "name": "stdout",
          "text": [
            "✅ Accuracy: 0.6934\n",
            "✅ Precision (macro): 0.6972\n",
            "✅ Recall (macro): 0.6785\n",
            "✅ F1-score (macro): 0.6863\n"
          ]
        }
      ]
    }
  ]
}